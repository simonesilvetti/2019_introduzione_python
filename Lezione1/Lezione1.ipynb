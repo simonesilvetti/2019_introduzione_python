{
 "cells": [
  {
   "cell_type": "markdown",
   "metadata": {},
   "source": [
    "# LEZIONE 1"
   ]
  },
  {
   "cell_type": "raw",
   "metadata": {},
   "source": [
    "Tutto ok, questa è una cella row "
   ]
  },
  {
   "cell_type": "code",
   "execution_count": 2,
   "metadata": {},
   "outputs": [
    {
     "data": {
      "text/plain": [
       "1"
      ]
     },
     "execution_count": 2,
     "metadata": {},
     "output_type": "execute_result"
    }
   ],
   "source": [
    "#questo è un commento\n",
    "a = 1\n",
    "a"
   ]
  },
  {
   "cell_type": "markdown",
   "metadata": {},
   "source": [
    "# ANALISI DI MERCATO\n",
    "## Popolazioni _indigene_ del Guatemala\n",
    "Questa è una cella Markdown con titolo, sottotitolo e del testo, \n",
    "maggiori informazioni le trovate qui:\n",
    "* [file pdf](https://guides.github.com/pdfs/markdown-cheatsheet-online.pdf)\n",
    "* [medium](https://medium.com/ibm-data-science-experience/markdown-for-jupyter-notebooks-cheatsheet-386c05aeebed)\n"
   ]
  },
  {
   "cell_type": "code",
   "execution_count": null,
   "metadata": {},
   "outputs": [],
   "source": [
    "#output: no\n",
    "a = 1+1"
   ]
  },
  {
   "cell_type": "code",
   "execution_count": null,
   "metadata": {},
   "outputs": [],
   "source": [
    "#output: sì\n",
    "a=1+1\n",
    "a"
   ]
  },
  {
   "cell_type": "code",
   "execution_count": null,
   "metadata": {},
   "outputs": [],
   "source": [
    "#output no: perché?\n",
    "a=1+1\n",
    "print(a)"
   ]
  },
  {
   "cell_type": "code",
   "execution_count": 2,
   "metadata": {},
   "outputs": [],
   "source": [
    "#? funzione di \"jupyter\" (...)\n",
    "?print #simile a help(print)"
   ]
  },
  {
   "cell_type": "code",
   "execution_count": 11,
   "metadata": {},
   "outputs": [
    {
     "name": "stdout",
     "output_type": "stream",
     "text": [
      "2 3_2 5\n"
     ]
    }
   ],
   "source": [
    "print(\"2\",\"3\", end=\"_\")\n",
    "print(\"2\",\"5\") ## di default l'end è il ritorno a capo \"\\n\""
   ]
  },
  {
   "cell_type": "code",
   "execution_count": 7,
   "metadata": {},
   "outputs": [
    {
     "ename": "NameError",
     "evalue": "name 'aaa' is not defined",
     "output_type": "error",
     "traceback": [
      "\u001b[1;31m---------------------------------------------------------------------------\u001b[0m",
      "\u001b[1;31mNameError\u001b[0m                                 Traceback (most recent call last)",
      "\u001b[1;32m<ipython-input-7-972a1a11f199>\u001b[0m in \u001b[0;36m<module>\u001b[1;34m\u001b[0m\n\u001b[1;32m----> 1\u001b[1;33m \u001b[0maaa\u001b[0m\u001b[1;33m\u001b[0m\u001b[1;33m\u001b[0m\u001b[0m\n\u001b[0m",
      "\u001b[1;31mNameError\u001b[0m: name 'aaa' is not defined"
     ]
    }
   ],
   "source": [
    "aaa ## se richiamo una variabile non definita ottengo un errore"
   ]
  },
  {
   "cell_type": "markdown",
   "metadata": {},
   "source": [
    "# Tipi\n",
    "ogni cosa in python ha un tipo: intero, stringa, classe, funzione, floating-point (float)"
   ]
  },
  {
   "cell_type": "code",
   "execution_count": 54,
   "metadata": {},
   "outputs": [
    {
     "name": "stdout",
     "output_type": "stream",
     "text": [
      "<class 'int'>\n",
      "<class 'str'>\n",
      "<class 'float'>\n",
      "<class 'bool'> <class 'bool'>\n",
      "<built-in function print>\n",
      "<class 'list'>\n"
     ]
    }
   ],
   "source": [
    "print(type(3))                 #intero\n",
    "print(type(\"s\"))               #stringa\n",
    "print(type(2.3))               #floating-point\n",
    "print(type(True),type(False))  #booleani\n",
    "print(print)                   #funzioni"
   ]
  },
  {
   "cell_type": "markdown",
   "metadata": {},
   "source": [
    "## Interi"
   ]
  },
  {
   "cell_type": "code",
   "execution_count": 19,
   "metadata": {},
   "outputs": [
    {
     "data": {
      "text/plain": [
       "1.6"
      ]
     },
     "execution_count": 19,
     "metadata": {},
     "output_type": "execute_result"
    }
   ],
   "source": [
    "8/5 #è un float"
   ]
  },
  {
   "cell_type": "code",
   "execution_count": 12,
   "metadata": {},
   "outputs": [
    {
     "data": {
      "text/plain": [
       "2.0"
      ]
     },
     "execution_count": 12,
     "metadata": {},
     "output_type": "execute_result"
    }
   ],
   "source": [
    "8/4 #è un float (anche se la divisione tra 8 e 4 matematicamente\n",
    "#produce un intero)"
   ]
  },
  {
   "cell_type": "code",
   "execution_count": 13,
   "metadata": {},
   "outputs": [
    {
     "data": {
      "text/plain": [
       "1"
      ]
     },
     "execution_count": 13,
     "metadata": {},
     "output_type": "execute_result"
    }
   ],
   "source": [
    "8//5 #è la divisione tra interi, e quindi è un intero"
   ]
  },
  {
   "cell_type": "code",
   "execution_count": 25,
   "metadata": {},
   "outputs": [
    {
     "data": {
      "text/plain": [
       "3"
      ]
     },
     "execution_count": 25,
     "metadata": {},
     "output_type": "execute_result"
    }
   ],
   "source": [
    "8%5 #è il resto della divisione, ed è un intero"
   ]
  },
  {
   "cell_type": "code",
   "execution_count": 16,
   "metadata": {},
   "outputs": [
    {
     "name": "stdout",
     "output_type": "stream",
     "text": [
      "8/5=1*5+3\n"
     ]
    }
   ],
   "source": [
    "print(\"8/5=\",8//5,\"*5+\",8%5,sep=\"\")"
   ]
  },
  {
   "cell_type": "markdown",
   "metadata": {},
   "source": [
    "## Stringhe"
   ]
  },
  {
   "cell_type": "code",
   "execution_count": 28,
   "metadata": {},
   "outputs": [
    {
     "name": "stdout",
     "output_type": "stream",
     "text": [
      "ciao\n",
      "ciao\n"
     ]
    }
   ],
   "source": [
    "a = \"ciao\" #doppio apice o \n",
    "b = 'ciao' # singolo apice\n",
    "print(a)\n",
    "print(b)"
   ]
  },
  {
   "cell_type": "markdown",
   "metadata": {},
   "source": [
    "#### Esercizio 1\n",
    "provate a definire la stringa ' non c'è tempo da perdere!'"
   ]
  },
  {
   "cell_type": "code",
   "execution_count": 19,
   "metadata": {},
   "outputs": [
    {
     "name": "stdout",
     "output_type": "stream",
     "text": [
      "non c'è tempora da perdere\n"
     ]
    }
   ],
   "source": [
    "# Esercizio 1, soluzione\n",
    "a=\"non c'è tempora da perdere\"\n",
    "print(a)"
   ]
  },
  {
   "cell_type": "code",
   "execution_count": 44,
   "metadata": {},
   "outputs": [
    {
     "name": "stdout",
     "output_type": "stream",
     "text": [
      "non c'è tempo da perdere\n"
     ]
    }
   ],
   "source": [
    "#bisogna essere coerenti: se inizio la stringa con il singolo apice, questo dovrà chiuderla\n",
    "a = \"non c'è tempo da perdere\" #il sigono apice viene visto con una semplice stringa.\n",
    "print(a)"
   ]
  },
  {
   "cell_type": "markdown",
   "metadata": {},
   "source": [
    "### metodo .format()"
   ]
  },
  {
   "cell_type": "code",
   "execution_count": 38,
   "metadata": {},
   "outputs": [
    {
     "name": "stdout",
     "output_type": "stream",
     "text": [
      "Il mio nome è Simone ed ho 34 anni\n"
     ]
    }
   ],
   "source": [
    "frase = \"Il mio nome è {} ed ho {} anni\" # le {} sono delle ancore (placeholder) alle quali posso associare dei\n",
    "                                         # dei valori con il metodo .format()\n",
    "frase_completa = frase.format(\"Simone\",34)\n",
    "print(frase_completa)"
   ]
  },
  {
   "cell_type": "code",
   "execution_count": 40,
   "metadata": {},
   "outputs": [
    {
     "name": "stdout",
     "output_type": "stream",
     "text": [
      "Il mio nome è Simone ed ho 34 anni\n",
      "Il mio nome è Mario ed ho 99 anni\n",
      "Il mio nome è Luigi ed ho 12 anni\n",
      "Il mio nome è Piero ed ho 59 anni\n"
     ]
    }
   ],
   "source": [
    "print(frase.format(\"Mario\",99))\n",
    "print(frase.format(\"Luigi\",12))\n",
    "print(frase.format(\"Piero\",59))"
   ]
  },
  {
   "cell_type": "code",
   "execution_count": 20,
   "metadata": {},
   "outputs": [
    {
     "name": "stdout",
     "output_type": "stream",
     "text": [
      "Il mio nome è Pippo ed ho 12 anni\n"
     ]
    }
   ],
   "source": [
    "nome = \"Pippo\"\n",
    "anni = 12\n",
    "#il metodo format potete applicarlo anche \"direttamente\" sulla stringa\n",
    "print(\"Il mio nome è {} ed ho {} anni\".format(nome, anni))"
   ]
  },
  {
   "cell_type": "markdown",
   "metadata": {},
   "source": [
    "#### Esercizio 2\n",
    "Scrivere l'equivalente di 538 minuti nel formato 12h:32min"
   ]
  },
  {
   "cell_type": "code",
   "execution_count": 3,
   "metadata": {},
   "outputs": [
    {
     "name": "stdout",
     "output_type": "stream",
     "text": [
      "8h:58min\n"
     ]
    }
   ],
   "source": [
    "ore = 538//60\n",
    "minuti = 538%60\n",
    "print(\"{}h:{}min\".format(ore,minuti))"
   ]
  },
  {
   "cell_type": "code",
   "execution_count": null,
   "metadata": {},
   "outputs": [],
   "source": [
    "ore = 538//60\n",
    "minuti = 538%60\n",
    "#puè essere utile associare una chiave all'ancora {} scrivendo \n",
    "# al suo interno una chiave univoca {A} è un ancora con chiave A.\n",
    "print(\"{A}h:{A}h:{B}min\".format(A=ore,B=minuti))"
   ]
  }
 ],
 "metadata": {
  "kernelspec": {
   "display_name": "Python 3",
   "language": "python",
   "name": "python3"
  },
  "language_info": {
   "codemirror_mode": {
    "name": "ipython",
    "version": 3
   },
   "file_extension": ".py",
   "mimetype": "text/x-python",
   "name": "python",
   "nbconvert_exporter": "python",
   "pygments_lexer": "ipython3",
   "version": "3.6.2"
  }
 },
 "nbformat": 4,
 "nbformat_minor": 2
}
