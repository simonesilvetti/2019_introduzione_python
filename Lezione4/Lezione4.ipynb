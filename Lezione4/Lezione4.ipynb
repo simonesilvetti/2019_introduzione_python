{
 "cells": [
  {
   "cell_type": "markdown",
   "metadata": {},
   "source": [
    "### Soluzioni esercizi Lezione 3"
   ]
  },
  {
   "cell_type": "code",
   "execution_count": 38,
   "metadata": {},
   "outputs": [
    {
     "data": {
      "text/plain": [
       "2"
      ]
     },
     "execution_count": 38,
     "metadata": {},
     "output_type": "execute_result"
    }
   ],
   "source": [
    "#Esercizio 0\n",
    "#definiamo una funzione che prende in input una lista di numeri interi e ritorna quanti \n",
    "#sono i numeri che si ripetono almeno una volta\n",
    "# es. [1,5,6,8,6,5] -> 2 \n",
    "\n",
    "def repeat(numeri):\n",
    "    osservati_1 = set()\n",
    "    osservati_2 = set()\n",
    "    for n in numeri:\n",
    "        if n in osservati_1:\n",
    "            osservati_2.add(n)\n",
    "        osservati_1.add(n)\n",
    "    return len(osservati_2)\n",
    "\n",
    "\n",
    "repeat([1,5,6,8,6,5])"
   ]
  },
  {
   "cell_type": "code",
   "execution_count": 53,
   "metadata": {},
   "outputs": [
    {
     "data": {
      "text/plain": [
       "1"
      ]
     },
     "execution_count": 53,
     "metadata": {},
     "output_type": "execute_result"
    }
   ],
   "source": [
    "# Esercizio 1 - Funzioni ricorsive\n",
    "#Definire una funzione ricorsiva che calcoli la divisione intera tra due numeri usando solo somme,\n",
    "# sottrazioni e operatori relazionali. Immaginate di voler calcolare la divisione intera tra\n",
    "#n ed m, dove n>m.  L'idea di base è sottraggo m da n tante volte quante riesco e tengo traccia di\n",
    "#quante volte\n",
    "#l'ho fatto. Per farlo in modo ricorsivo non posso inizializzare un contatore all'interno\n",
    "#della funzione \n",
    "#altrimenti alla successiva chiamata ricorsiva questo viene reinizializzato... \n",
    "def divisione_intera(n,m,c=0): # salvo in c quante volte ho chiamato la funzione divisione_intera\n",
    "    if(n<m):\n",
    "        return c\n",
    "    return divisione_intera(n-m,m,c+1)\n",
    "divisione_intera(8,5)"
   ]
  },
  {
   "cell_type": "code",
   "execution_count": 4,
   "metadata": {},
   "outputs": [
    {
     "data": {
      "text/plain": [
       "[6, 4, 2]"
      ]
     },
     "execution_count": 4,
     "metadata": {},
     "output_type": "execute_result"
    }
   ],
   "source": [
    "# Esercizio 2 - List comprehension\n",
    "# Definite una funzione che prende in input una lista di parole L e ritorna una lista di interi rappresentante \n",
    "# la lunghezza delle parole di L.\n",
    "# es. [\"ciccio\",\"pino\",\"ma\"] -> [6,4,2]\n",
    "def count(lista):\n",
    "    return [len(elemento) for elemento in lista]\n",
    "count([\"ciccio\",\"pino\",\"ma\"])"
   ]
  },
  {
   "cell_type": "code",
   "execution_count": 47,
   "metadata": {},
   "outputs": [
    {
     "data": {
      "text/plain": [
       "False"
      ]
     },
     "execution_count": 47,
     "metadata": {},
     "output_type": "execute_result"
    }
   ],
   "source": [
    "# Esercizio 3 - Parentesi \n",
    "# Definite una funzione che prende in input una stringa\n",
    "# rappresentate una sequenza di parentesi (es. \"()(())()\") e ritorna True se la sequenza è ben formata\n",
    "# False altrimenti. Ben formata significa che ogni parentesi aperta viene chiusa e ogni parentesi chiusa è stata \n",
    "# effettivamente aperta.\n",
    "# Esempi. \n",
    "# ()() -> True\n",
    "# (  -> False parentesi aperta e mai chiusa\n",
    "# )  -> False, parentesi chiusa e mai aperta\n",
    "# ())-> False l'ultima parentesi non è stata aperta\n",
    "\n",
    "def conta_parentesi(stringa_parentesi):\n",
    "    c=0\n",
    "    for parentesi in stringa_parentesi:\n",
    "        if(parentesi==\"(\"):\n",
    "            c=c+1\n",
    "        else:\n",
    "            c=c-1\n",
    "        if(c<0):\n",
    "            return False\n",
    "    return c==0\n",
    "conta_parentesi(\"())(\")"
   ]
  },
  {
   "cell_type": "code",
   "execution_count": 2,
   "metadata": {},
   "outputs": [
    {
     "data": {
      "text/plain": [
       "[1.5, 8]"
      ]
     },
     "execution_count": 2,
     "metadata": {},
     "output_type": "execute_result"
    }
   ],
   "source": [
    "#Esercizio 4\n",
    "# definire una funzione che prenda una lista di numeri interi e ritorni una lista di due elementi\n",
    "# contenente il massimo e il minimo. \n",
    "# esempio: \n",
    "# min_max([1,4,2,6,3,7,2]) -> [1,7]\n",
    "# min_max([1])->[1,1]\n",
    "# min_max([])->[None,None]\n",
    "\n",
    "def min_max(numeri):\n",
    "    if(len(numeri)==0):\n",
    "        return [None, None]\n",
    "    minimo = massimo = numeri[0]\n",
    "    for e in numeri[1:]:\n",
    "        if(e>massimo):\n",
    "            massimo=e\n",
    "        elif(e<minimo):\n",
    "            minimo = e\n",
    "    return [minimo,massimo]\n",
    "\n",
    "min_max([1.5,6,3,8])"
   ]
  },
  {
   "cell_type": "code",
   "execution_count": 9,
   "metadata": {},
   "outputs": [
    {
     "name": "stdout",
     "output_type": "stream",
     "text": [
      "[7, 2, 8, 2, 7, 6, 8, 5, 2, 8]\n"
     ]
    }
   ],
   "source": [
    "# Esercizio 5 - Random 1\n",
    "# Usate la funzione random per generare una lista di 10 elementi formata da numeri interi casuali \n",
    "# compresi tra 2 e 8 (incluso!)\n",
    "import random\n",
    "\n",
    "interi_casuali = [random.randint(2,8) for i in range(10)]\n",
    "print(interi_casuali)"
   ]
  },
  {
   "cell_type": "code",
   "execution_count": 39,
   "metadata": {},
   "outputs": [],
   "source": [
    "# Esercizio 6 - Random 2\n",
    "# Definire una funzione che accetta come input un numero intero (n) tra 0 e 9 e genera una \n",
    "#stringa di numeri\n",
    "# casuali che deve contenere n solo in ultima posizione. Se n non è in [0,9] la funzione deve \n",
    "#ritornare 'fail'.\n",
    "# Esempio: \n",
    "# randomNumber(3) può generare 124573, oppure 14587413 ma non deve generare 13245783 \n",
    "#(perchè c'è un 3\n",
    "# in posizione 2), e non deve generare 124574 (perchè non c'è il 3) etc. \n",
    "# randomNumber(57) ritorna 'fail' perchè 57 non è in [0,9]\n",
    "\n",
    "import random\n",
    "def randomNumber(n):\n",
    "    if(n>9):\n",
    "        return \"Fail\"\n",
    "    result = \"\"\n",
    "    num=-1\n",
    "    while(num !=n):\n",
    "        num = random.randint(0,9)\n",
    "        result=result+str(num)\n",
    "    return result"
   ]
  },
  {
   "cell_type": "markdown",
   "metadata": {},
   "source": [
    "## Tuple (liste immutabili)\n",
    "\n",
    "Sono liste di valori separati da virgole. Non è necessaria ma è convenzionale racchiuderle fra parentesi tonde.\n",
    "\n",
    "Sono immutabili!!!\n"
   ]
  },
  {
   "cell_type": "code",
   "execution_count": 20,
   "metadata": {},
   "outputs": [
    {
     "data": {
      "text/plain": [
       "tuple"
      ]
     },
     "execution_count": 20,
     "metadata": {},
     "output_type": "execute_result"
    }
   ],
   "source": [
    "tupla_vuota = tuple() # usando il costruttore della classe\n",
    "tupla_vuota_2 = ()    # metodo alternativo più rapido\n",
    "type(tupla_vuota_2)"
   ]
  },
  {
   "cell_type": "code",
   "execution_count": 6,
   "metadata": {},
   "outputs": [
    {
     "data": {
      "text/plain": [
       "(tuple, (2,))"
      ]
     },
     "execution_count": 6,
     "metadata": {},
     "output_type": "execute_result"
    }
   ],
   "source": [
    "tupla = (2,)     #<--- notate la virgola!\n",
    "type(tupla)\n",
    "type(tupla), tupla  "
   ]
  },
  {
   "cell_type": "code",
   "execution_count": 8,
   "metadata": {},
   "outputs": [
    {
     "data": {
      "text/plain": [
       "int"
      ]
     },
     "execution_count": 8,
     "metadata": {},
     "output_type": "execute_result"
    }
   ],
   "source": [
    "# Occhio alla virgola!!\n",
    "tupla = (2) # se non uso la virgola python riconosce (2) come un intero..\n",
    "type(tupla)"
   ]
  },
  {
   "cell_type": "code",
   "execution_count": null,
   "metadata": {},
   "outputs": [],
   "source": [
    "#accesso a un elemento\n",
    "tupla=(4,5,6)\n",
    "tupla[0]"
   ]
  },
  {
   "cell_type": "code",
   "execution_count": 10,
   "metadata": {},
   "outputs": [
    {
     "ename": "TypeError",
     "evalue": "'tuple' object does not support item assignment",
     "output_type": "error",
     "traceback": [
      "\u001b[1;31m---------------------------------------------------------------------------\u001b[0m",
      "\u001b[1;31mTypeError\u001b[0m                                 Traceback (most recent call last)",
      "\u001b[1;32m<ipython-input-10-bc42f75f3c3b>\u001b[0m in \u001b[0;36m<module>\u001b[1;34m\u001b[0m\n\u001b[0;32m      1\u001b[0m \u001b[1;31m#le tuple sono immutabili\u001b[0m\u001b[1;33m\u001b[0m\u001b[1;33m\u001b[0m\u001b[1;33m\u001b[0m\u001b[0m\n\u001b[0;32m      2\u001b[0m \u001b[0mtupla\u001b[0m\u001b[1;33m=\u001b[0m\u001b[1;33m(\u001b[0m\u001b[1;36m4\u001b[0m\u001b[1;33m,\u001b[0m\u001b[1;36m5\u001b[0m\u001b[1;33m,\u001b[0m\u001b[1;36m6\u001b[0m\u001b[1;33m)\u001b[0m\u001b[1;33m\u001b[0m\u001b[1;33m\u001b[0m\u001b[0m\n\u001b[1;32m----> 3\u001b[1;33m \u001b[0mtupla\u001b[0m\u001b[1;33m[\u001b[0m\u001b[1;36m0\u001b[0m\u001b[1;33m]\u001b[0m\u001b[1;33m=\u001b[0m\u001b[1;36m5\u001b[0m\u001b[1;33m\u001b[0m\u001b[1;33m\u001b[0m\u001b[0m\n\u001b[0m",
      "\u001b[1;31mTypeError\u001b[0m: 'tuple' object does not support item assignment"
     ]
    }
   ],
   "source": [
    "#le tuple sono immutabili\n",
    "tupla=(4,5,6)\n",
    "tupla[0]=5"
   ]
  },
  {
   "cell_type": "code",
   "execution_count": 12,
   "metadata": {},
   "outputs": [
    {
     "name": "stdout",
     "output_type": "stream",
     "text": [
      "(5, 5, 6)\n"
     ]
    }
   ],
   "source": [
    "tupla=(4,5,6)\n",
    "new_tupla =  (5,) + tupla[1:]\n",
    "print(new_tupla)"
   ]
  },
  {
   "cell_type": "code",
   "execution_count": 62,
   "metadata": {},
   "outputs": [],
   "source": [
    "# Esercizio insieme\n",
    "# diciamo che voglio cambiare il primo elemento della tupla, come faccio?\n",
    "# tupla=(4,5,6) -> tupla=(5,5,6)\n",
    "\n",
    "def sostituzione(elemento, indice, tupla):\n",
    "    if(indice<len(tupla)):\n",
    "        return tupla[:indice]+(elemento,)+tupla[indice+1:]   "
   ]
  },
  {
   "cell_type": "code",
   "execution_count": 10,
   "metadata": {},
   "outputs": [
    {
     "name": "stdout",
     "output_type": "stream",
     "text": [
      "a = 1\n",
      "b = 2\n",
      "c = ciao\n",
      "(1, 2, 'ciao')\n"
     ]
    }
   ],
   "source": [
    "# assegnazione multipla.\n",
    "(a,b,c) = (1,2,\"ciao\") # Le parentesi sono opzionali potevo scrivere a,b,c = 1,2,\"ciao\"\n",
    "print('a =', a)\n",
    "print('b =', b)\n",
    "print('c =', c)\n",
    "print((a,b,c))"
   ]
  },
  {
   "cell_type": "code",
   "execution_count": null,
   "metadata": {},
   "outputs": [],
   "source": [
    "# Esercizio swap-the-value. \n",
    "a = 12\n",
    "b = 15\n",
    "#Scrivi qui (utilizza una variabile di appoggio temp per assegnare il valore di b ad a, ed il valore di a a b)\n",
    "# deve risultare che a = 15 e b = 12\n",
    "\n",
    "a,b = b, a\n",
    "\n",
    "temp = a \n",
    "a = b \n",
    "b = temp \n"
   ]
  },
  {
   "cell_type": "code",
   "execution_count": null,
   "metadata": {},
   "outputs": [],
   "source": [
    "# Esercizio swap-the-value (hero mode on)\n",
    "# Risolvere l'esercizio precedente con le tuple! "
   ]
  },
  {
   "cell_type": "code",
   "execution_count": 19,
   "metadata": {},
   "outputs": [
    {
     "data": {
      "text/plain": [
       "(12, 4)"
      ]
     },
     "execution_count": 19,
     "metadata": {},
     "output_type": "execute_result"
    }
   ],
   "source": [
    "# le tuple sono molto comode per far ritornare più argomenti alle funzioni, Esempio. \n",
    "# definiamo una funzione che presa in input una lista di numeri interi, ritorna l'elemento di valore massimo\n",
    "# e il suo indice.\n",
    "def massimo(lista):\n",
    "    valore_massimo = lista[0]\n",
    "    indice_valore_massimo = 0\n",
    "    for i in range(1,len(lista)):\n",
    "        if(lista[i]>valore_massimo):\n",
    "            valore_massimo = lista[i]\n",
    "            indice_valore_massimo = i\n",
    "    return valore_massimo, indice_valore_massimo\n",
    "\n",
    "massimo([1,7,8,9,12,3,2,1,2])"
   ]
  },
  {
   "cell_type": "code",
   "execution_count": 13,
   "metadata": {},
   "outputs": [
    {
     "data": {
      "text/plain": [
       "['mario rossi', 'luigi bianchi']"
      ]
     },
     "execution_count": 13,
     "metadata": {},
     "output_type": "execute_result"
    }
   ],
   "source": [
    "# Esercizio:\n",
    "# Definiamo una funzione che prende in input una lista di tuple. \n",
    "# Ogni tupla è formata da due stringhe nome e cognome. \n",
    "# La funzione restituisce una lista di stringhe, dove la stringa i-esima \n",
    "# è la concatenazione di nome e cognome della tupla i-esima.\n",
    "# es. [(\"mario\",\"rossi\"),(\"luigi\", \"bianchi\")] -> [\"mario rossi\", \"luigi bianchi\"]\n",
    "\n",
    "def funzione(lista_tuple):\n",
    "    return [ t[0] +\" \"+ t[1] for t in lista_tuple ]\n",
    "funzione([(\"mario\",\"rossi\"),(\"luigi\", \"bianchi\")])"
   ]
  },
  {
   "cell_type": "markdown",
   "metadata": {},
   "source": [
    "## Dizionari "
   ]
  },
  {
   "cell_type": "code",
   "execution_count": 22,
   "metadata": {},
   "outputs": [
    {
     "data": {
      "text/plain": [
       "dict"
      ]
     },
     "execution_count": 22,
     "metadata": {},
     "output_type": "execute_result"
    }
   ],
   "source": [
    "dizionario_vuoto = dict() # dizionario vuoto\n",
    "#oppure \n",
    "dizionario_vuoto_2 = {}  # Quindi la domanda sorge spontanea come definisco un insieme vuoto? :( \n",
    "type(dizionario_vuoto_2)"
   ]
  },
  {
   "cell_type": "markdown",
   "metadata": {},
   "source": [
    "#### Un dizionario è un'insieme di coppie chiave:valore, le chiavi posso un qualsiasi oggetto immutabile (stringhe, numeri,tuple,..)"
   ]
  },
  {
   "cell_type": "code",
   "execution_count": 24,
   "metadata": {},
   "outputs": [
    {
     "name": "stdout",
     "output_type": "stream",
     "text": [
      "{'Antonio': 27, 'Erica': 30, 'Luca': 20, 'Caterina': 18}\n",
      "{'nome': 'Mario', 'cognome': 'Rossi', 'età': 20}\n"
     ]
    }
   ],
   "source": [
    "voti = {'Antonio':27, 'Erica':30, 'Luca':20, 'Caterina':18 }\n",
    "persona = {'nome':'Mario', 'cognome':'Rossi', 'età':20} \n",
    "\n",
    "print(voti)\n",
    "print(persona)"
   ]
  },
  {
   "cell_type": "markdown",
   "metadata": {},
   "source": [
    "#### Le chiavi di un dizionario devono essere oggetti immutabili!"
   ]
  },
  {
   "cell_type": "code",
   "execution_count": 14,
   "metadata": {},
   "outputs": [
    {
     "ename": "TypeError",
     "evalue": "unhashable type: 'list'",
     "output_type": "error",
     "traceback": [
      "\u001b[1;31m---------------------------------------------------------------------------\u001b[0m",
      "\u001b[1;31mTypeError\u001b[0m                                 Traceback (most recent call last)",
      "\u001b[1;32m<ipython-input-14-12aa9fadbef8>\u001b[0m in \u001b[0;36m<module>\u001b[1;34m\u001b[0m\n\u001b[0;32m      1\u001b[0m \u001b[1;31m#se uso come chiave una lista... ottengo l'errore \"unhashable type...\"\u001b[0m\u001b[1;33m\u001b[0m\u001b[1;33m\u001b[0m\u001b[1;33m\u001b[0m\u001b[0m\n\u001b[1;32m----> 2\u001b[1;33m \u001b[0mdizionario\u001b[0m \u001b[1;33m=\u001b[0m \u001b[1;33m{\u001b[0m\u001b[1;33m[\u001b[0m\u001b[1;36m1\u001b[0m\u001b[1;33m,\u001b[0m\u001b[1;36m2\u001b[0m\u001b[1;33m]\u001b[0m\u001b[1;33m:\u001b[0m\u001b[1;36m3\u001b[0m\u001b[1;33m}\u001b[0m\u001b[1;33m\u001b[0m\u001b[1;33m\u001b[0m\u001b[0m\n\u001b[0m",
      "\u001b[1;31mTypeError\u001b[0m: unhashable type: 'list'"
     ]
    }
   ],
   "source": [
    "#se uso come chiave una lista... ottengo l'errore \"unhashable type...\"\n",
    "dizionario = {[1,2]:3}"
   ]
  },
  {
   "cell_type": "markdown",
   "metadata": {},
   "source": [
    "### Operazioni Elementari con i Dizionari\n",
    "#### Accedere agli elementi di un dizionario"
   ]
  },
  {
   "cell_type": "code",
   "execution_count": 27,
   "metadata": {},
   "outputs": [
    {
     "name": "stdout",
     "output_type": "stream",
     "text": [
      "27\n"
     ]
    }
   ],
   "source": [
    "voti = {'Antonio':27, 'Erica':30, 'Luca':20, 'Caterina':18 }\n",
    "print(voti['Antonio'])"
   ]
  },
  {
   "cell_type": "markdown",
   "metadata": {},
   "source": [
    "#### Modificare gli elementi di un dizionario"
   ]
  },
  {
   "cell_type": "code",
   "execution_count": 29,
   "metadata": {},
   "outputs": [
    {
     "name": "stdout",
     "output_type": "stream",
     "text": [
      "{'Antonio': 27, 'Erica': 30, 'Luca': 20, 'Caterina': 18}\n",
      "{'Antonio': 30, 'Erica': 30, 'Luca': 20, 'Caterina': 18}\n"
     ]
    }
   ],
   "source": [
    "voti = {'Antonio':27, 'Erica':30, 'Luca':20, 'Caterina':18 }\n",
    "print(voti)\n",
    "voti['Antonio'] = 30  # modifico il voto di Antonio\n",
    "print(voti)"
   ]
  },
  {
   "cell_type": "markdown",
   "metadata": {},
   "source": [
    "#### Aggiungere un elemento a un dizionario\n"
   ]
  },
  {
   "cell_type": "code",
   "execution_count": 30,
   "metadata": {},
   "outputs": [
    {
     "name": "stdout",
     "output_type": "stream",
     "text": [
      "{'Antonio': 27, 'Erica': 30, 'Luca': 20, 'Caterina': 18, 'Laura': 29}\n"
     ]
    }
   ],
   "source": [
    "voti = {'Antonio':27, 'Erica':30, 'Luca':20, 'Caterina':18 }\n",
    "voti['Laura'] = 29\n",
    "print(voti)"
   ]
  },
  {
   "cell_type": "markdown",
   "metadata": {},
   "source": [
    "#### Cancellare un elemento"
   ]
  },
  {
   "cell_type": "code",
   "execution_count": 16,
   "metadata": {},
   "outputs": [
    {
     "name": "stdout",
     "output_type": "stream",
     "text": [
      "{'Erica': 30, 'Luca': 20, 'Caterina': 18}\n"
     ]
    }
   ],
   "source": [
    "voti = {'Antonio':27, 'Erica':30, 'Luca':20, 'Caterina':18 }\n",
    "del(voti['Antonio'])\n",
    "print(voti)"
   ]
  },
  {
   "cell_type": "markdown",
   "metadata": {},
   "source": [
    "#### Altri metodi"
   ]
  },
  {
   "cell_type": "code",
   "execution_count": 52,
   "metadata": {},
   "outputs": [
    {
     "data": {
      "text/plain": [
       "3"
      ]
     },
     "execution_count": 52,
     "metadata": {},
     "output_type": "execute_result"
    }
   ],
   "source": [
    "len(voti) # Lunghezza di un dizionario: il numero di coppie chiave-valore"
   ]
  },
  {
   "cell_type": "code",
   "execution_count": 18,
   "metadata": {},
   "outputs": [
    {
     "data": {
      "text/plain": [
       "['Erica', 'Luca', 'Caterina']"
      ]
     },
     "execution_count": 18,
     "metadata": {},
     "output_type": "execute_result"
    }
   ],
   "source": [
    "list(voti.keys())"
   ]
  },
  {
   "cell_type": "code",
   "execution_count": 53,
   "metadata": {},
   "outputs": [
    {
     "data": {
      "text/plain": [
       "['Erica', 'Luca', 'Caterina']"
      ]
     },
     "execution_count": 53,
     "metadata": {},
     "output_type": "execute_result"
    }
   ],
   "source": [
    "list(voti.keys()) # costruisco la lista delle chiavi del dizionario "
   ]
  },
  {
   "cell_type": "code",
   "execution_count": 54,
   "metadata": {},
   "outputs": [
    {
     "data": {
      "text/plain": [
       "[30, 20, 18]"
      ]
     },
     "execution_count": 54,
     "metadata": {},
     "output_type": "execute_result"
    }
   ],
   "source": [
    "list(voti.values()) # lista valori del dizionario"
   ]
  },
  {
   "cell_type": "code",
   "execution_count": 55,
   "metadata": {},
   "outputs": [
    {
     "data": {
      "text/plain": [
       "[('Erica', 30), ('Luca', 20), ('Caterina', 18)]"
      ]
     },
     "execution_count": 55,
     "metadata": {},
     "output_type": "execute_result"
    }
   ],
   "source": [
    "list(voti.items()) # lista valori delle coppie chiave - valore"
   ]
  },
  {
   "cell_type": "code",
   "execution_count": 56,
   "metadata": {},
   "outputs": [
    {
     "data": {
      "text/plain": [
       "False"
      ]
     },
     "execution_count": 56,
     "metadata": {},
     "output_type": "execute_result"
    }
   ],
   "source": [
    "'Ludovica' in voti.keys() # Chiedo se la chiave 'Ludovica' è presente nel dizionario\n",
    "#posso anche scrivere direttamente\n",
    "'Ludovica' in voti"
   ]
  },
  {
   "cell_type": "code",
   "execution_count": 41,
   "metadata": {},
   "outputs": [
    {
     "data": {
      "text/plain": [
       "False"
      ]
     },
     "execution_count": 41,
     "metadata": {},
     "output_type": "execute_result"
    }
   ],
   "source": [
    "voti1 = {'Antonio':27, 'Erica':30, 'Luca':20, 'Caterina':18 }\n",
    "voti2 = {'Antonio':27, 'Erica':30, 'Lucia':20, 'Caterina':30 }\n",
    "voti1 == voti2   # controlla se due dizionari sono uguali, ovvero hanno le stesse coppie chiave - valore"
   ]
  },
  {
   "cell_type": "markdown",
   "metadata": {},
   "source": [
    "#### Metodo get"
   ]
  },
  {
   "cell_type": "code",
   "execution_count": 19,
   "metadata": {},
   "outputs": [
    {
     "data": {
      "text/plain": [
       "27"
      ]
     },
     "execution_count": 19,
     "metadata": {},
     "output_type": "execute_result"
    }
   ],
   "source": [
    "voti = {'Antonio':27, 'Erica':30, 'Luca':20, 'Caterina':18 }\n",
    "\n",
    "voti.get('Antonio',12) # restituiscie il valore associato alla chiave 'Antonio' se presente, 12 altrimenti"
   ]
  },
  {
   "cell_type": "code",
   "execution_count": 20,
   "metadata": {},
   "outputs": [
    {
     "data": {
      "text/plain": [
       "25"
      ]
     },
     "execution_count": 20,
     "metadata": {},
     "output_type": "execute_result"
    }
   ],
   "source": [
    "voti.get('Luigi',25)"
   ]
  },
  {
   "cell_type": "code",
   "execution_count": 22,
   "metadata": {},
   "outputs": [
    {
     "data": {
      "text/plain": [
       "True"
      ]
     },
     "execution_count": 22,
     "metadata": {},
     "output_type": "execute_result"
    }
   ],
   "source": [
    "# Esercizio insieme.\n",
    "# Definiamo una funzione che prende in input due stringhe e restituisce True se una è \n",
    "# anagramma dell'altra,\n",
    "# False altrimenti\n",
    "# Indizio: costruiamo una funzioni che conti le lettere presenti in una stringa...\n",
    "\n",
    "def anagramma(parola1, parola2):\n",
    "    return crea_dizionario_smart(parola1) == crea_dizionario_smart(parola2)\n",
    "\n",
    "def crea_dizionario(parola):\n",
    "    diz = {}\n",
    "    for lettera in parola:\n",
    "        if lettera not in diz:\n",
    "            diz[lettera] = 1\n",
    "        else:\n",
    "            diz[lettera] = diz[lettera] + 1\n",
    "    return diz\n",
    "\n",
    "def crea_dizionario_smart(parola):\n",
    "    diz = {}\n",
    "    for lettera in parola:\n",
    "        diz[lettera] = diz.get(lettera,0)+1\n",
    "    \n",
    "\n",
    "anagramma(\"ciccio\",\"cccciio\")\n",
    "            "
   ]
  },
  {
   "cell_type": "markdown",
   "metadata": {},
   "source": [
    "## Lambda Expression"
   ]
  },
  {
   "cell_type": "code",
   "execution_count": null,
   "metadata": {},
   "outputs": [],
   "source": [
    "def funzione(x):\n",
    "    return 3*x +1 \n",
    "\n",
    "funzione = lambda x : 3*x + 1 \n"
   ]
  },
  {
   "cell_type": "code",
   "execution_count": 23,
   "metadata": {},
   "outputs": [
    {
     "data": {
      "text/plain": [
       "17"
      ]
     },
     "execution_count": 23,
     "metadata": {},
     "output_type": "execute_result"
    }
   ],
   "source": [
    "somma = lambda x,y : x+y \n",
    "somma(8,9)"
   ]
  },
  {
   "cell_type": "code",
   "execution_count": 43,
   "metadata": {},
   "outputs": [],
   "source": [
    "f = lambda x : x+1 ## f: x -> x+1\n",
    "g = lambda x:x**2 ## g: x -> x*x\n",
    "ma = lambda x,y: max(x,y) \n",
    "div = lambda x,y: y%x==0\n",
    "comp = lambda f,g: lambda x: f(g(x))  ##comp: (f:B ->C)x(g:A ->B) -> (f*g:A -> C)"
   ]
  },
  {
   "cell_type": "code",
   "execution_count": 45,
   "metadata": {},
   "outputs": [],
   "source": [
    "# Esercizio\n",
    "# Definire una funzione che prende in inputi i coefficienti di una parabola a,b,c e ritorna \n",
    "# la funzione della parola stessa ovvero a*x**2+b*x+c\n",
    "\n",
    "def generatore_parabola(a,b,c):\n",
    "    return lambda x : a*x**2+b*x+c"
   ]
  },
  {
   "cell_type": "code",
   "execution_count": null,
   "metadata": {},
   "outputs": [],
   "source": [
    "# Esercizio definire la lambda expression che restituisce il massimo tra due valori. \n",
    "massimo = lambda x,y: x if x>y else y"
   ]
  },
  {
   "cell_type": "code",
   "execution_count": 24,
   "metadata": {},
   "outputs": [
    {
     "data": {
      "text/plain": [
       "5"
      ]
     },
     "execution_count": 24,
     "metadata": {},
     "output_type": "execute_result"
    }
   ],
   "source": [
    "# Esercizio definire la funzione modulo con una lambda expression\n",
    "modulo = lambda x : x if x>0 else -x\n",
    "modulo(-5)"
   ]
  },
  {
   "cell_type": "code",
   "execution_count": 27,
   "metadata": {},
   "outputs": [
    {
     "data": {
      "text/plain": [
       "(0.0, 1.0)"
      ]
     },
     "execution_count": 27,
     "metadata": {},
     "output_type": "execute_result"
    }
   ],
   "source": [
    "# Esercizio:\n",
    "# Scrivere una funzione che calcoli il massimo e il minimo valore di una\n",
    "# funzione f(x) passata come argomento e definita su un intervallo [a,b] valutata in n (default =2000)\n",
    "# punti su tale intervallo.\n",
    "\n",
    "def min_max(f,lb,ub,n = 2000):\n",
    "    valori =  [f(lb + (ub-lb)/n * i) for i in range(n+1)]\n",
    "    return min(valori), max(valori)\n",
    "\n",
    "min_max(lambda x : x**2, 0, 1)\n",
    "    "
   ]
  },
  {
   "cell_type": "markdown",
   "metadata": {},
   "source": [
    "### Iterable\n",
    "sono oggetti sui quali è possibile iterare... "
   ]
  },
  {
   "cell_type": "code",
   "execution_count": 28,
   "metadata": {},
   "outputs": [
    {
     "ename": "TypeError",
     "evalue": "'list' object is not an iterator",
     "output_type": "error",
     "traceback": [
      "\u001b[1;31m---------------------------------------------------------------------------\u001b[0m",
      "\u001b[1;31mTypeError\u001b[0m                                 Traceback (most recent call last)",
      "\u001b[1;32m<ipython-input-28-cdf8714b6e6c>\u001b[0m in \u001b[0;36m<module>\u001b[1;34m\u001b[0m\n\u001b[0;32m      2\u001b[0m \u001b[0mparola\u001b[0m \u001b[1;33m=\u001b[0m \u001b[1;33m[\u001b[0m\u001b[1;34m\"a\"\u001b[0m\u001b[1;33m,\u001b[0m\u001b[1;36m2\u001b[0m\u001b[1;33m,\u001b[0m\u001b[1;36m3\u001b[0m\u001b[1;33m]\u001b[0m\u001b[1;33m\u001b[0m\u001b[1;33m\u001b[0m\u001b[0m\n\u001b[0;32m      3\u001b[0m \u001b[1;31m# ma non posso chiedere dammi il prossimo elemento\u001b[0m\u001b[1;33m\u001b[0m\u001b[1;33m\u001b[0m\u001b[1;33m\u001b[0m\u001b[0m\n\u001b[1;32m----> 4\u001b[1;33m \u001b[0mnext\u001b[0m\u001b[1;33m(\u001b[0m\u001b[0mparola\u001b[0m\u001b[1;33m)\u001b[0m\u001b[1;33m\u001b[0m\u001b[1;33m\u001b[0m\u001b[0m\n\u001b[0m",
      "\u001b[1;31mTypeError\u001b[0m: 'list' object is not an iterator"
     ]
    }
   ],
   "source": [
    "# le liste sono iterables (esiste il primo, il secondo elemento, etc..)\n",
    "parola = [\"a\",2,3]\n",
    "# ma non posso chiedere dammi il prossimo elemento\n",
    "next(parola)"
   ]
  },
  {
   "cell_type": "markdown",
   "metadata": {},
   "source": [
    "### Zip: from iterable to iterator"
   ]
  },
  {
   "cell_type": "code",
   "execution_count": 30,
   "metadata": {},
   "outputs": [
    {
     "name": "stdout",
     "output_type": "stream",
     "text": [
      "('a',)\n",
      "(2,)\n",
      "(3,)\n"
     ]
    },
    {
     "ename": "StopIteration",
     "evalue": "",
     "output_type": "error",
     "traceback": [
      "\u001b[1;31m---------------------------------------------------------------------------\u001b[0m",
      "\u001b[1;31mStopIteration\u001b[0m                             Traceback (most recent call last)",
      "\u001b[1;32m<ipython-input-30-6bede60cf08e>\u001b[0m in \u001b[0;36m<module>\u001b[1;34m\u001b[0m\n\u001b[0;32m      4\u001b[0m \u001b[0mprint\u001b[0m\u001b[1;33m(\u001b[0m\u001b[0mnext\u001b[0m\u001b[1;33m(\u001b[0m\u001b[0mparola_iter\u001b[0m\u001b[1;33m)\u001b[0m\u001b[1;33m)\u001b[0m\u001b[1;33m\u001b[0m\u001b[1;33m\u001b[0m\u001b[0m\n\u001b[0;32m      5\u001b[0m \u001b[0mprint\u001b[0m\u001b[1;33m(\u001b[0m\u001b[0mnext\u001b[0m\u001b[1;33m(\u001b[0m\u001b[0mparola_iter\u001b[0m\u001b[1;33m)\u001b[0m\u001b[1;33m)\u001b[0m\u001b[1;33m\u001b[0m\u001b[1;33m\u001b[0m\u001b[0m\n\u001b[1;32m----> 6\u001b[1;33m \u001b[0mprint\u001b[0m\u001b[1;33m(\u001b[0m\u001b[0mnext\u001b[0m\u001b[1;33m(\u001b[0m\u001b[0mparola_iter\u001b[0m\u001b[1;33m)\u001b[0m\u001b[1;33m)\u001b[0m\u001b[1;33m\u001b[0m\u001b[1;33m\u001b[0m\u001b[0m\n\u001b[0m",
      "\u001b[1;31mStopIteration\u001b[0m: "
     ]
    }
   ],
   "source": [
    "parola = [\"a\",2,3]\n",
    "parola_iter = zip(parola) # zip trasforma oggetti iterable in iterator...\n",
    "print(next(parola_iter))\n",
    "print(next(parola_iter))\n",
    "print(next(parola_iter))\n",
    "print(next(parola_iter))"
   ]
  },
  {
   "cell_type": "markdown",
   "metadata": {},
   "source": [
    "#### Zip viene spesso usato per ottenere il \"prodotto\" di sequenze"
   ]
  },
  {
   "cell_type": "code",
   "execution_count": 5,
   "metadata": {},
   "outputs": [
    {
     "name": "stdout",
     "output_type": "stream",
     "text": [
      "[('Simone', 'Ippoliti'), ('Luigi', 'Bianchi'), ('Mario', 'Rossi')]\n"
     ]
    }
   ],
   "source": [
    "lista_nomi = [\"Simone\", \"Luigi\", \"Mario\"]\n",
    "lista_cognomi = [\"Ippoliti\", \"Bianchi\", \"Rossi\"]\n",
    "print(list(zip(lista_nomi,lista_cognomi))) # osserviamo il contenuto dello zip, uso il costruttore list!"
   ]
  },
  {
   "cell_type": "code",
   "execution_count": 6,
   "metadata": {},
   "outputs": [
    {
     "data": {
      "text/plain": [
       "[{'nome': 'Simone', 'cognome': 'Simone'},\n",
       " {'nome': 'Luigi', 'cognome': 'Luigi'},\n",
       " {'nome': 'Mario', 'cognome': 'Mario'}]"
      ]
     },
     "execution_count": 6,
     "metadata": {},
     "output_type": "execute_result"
    }
   ],
   "source": [
    "#definiamo la lista dei dizionari {\"nome\": ..., \"cognome\": ...} a partire da  lista_nomi e  lista_cognomi\n",
    "[{\"nome\": x, \"cognome\": y} for x,y in zip(lista_nomi,lista_cognomi)] # notate x,y... è lecito visto che zip\n",
    "                                                                     # ritorna una lista di tuple di due elementi\n",
    "# in alternativa potevo fare: \n",
    "[{\"nome\": x[0], \"cognome\": x[0]} for x in zip(lista_nomi,lista_cognomi)]"
   ]
  },
  {
   "cell_type": "markdown",
   "metadata": {},
   "source": [
    "### yield (generatori)"
   ]
  },
  {
   "cell_type": "code",
   "execution_count": 24,
   "metadata": {},
   "outputs": [
    {
     "name": "stdout",
     "output_type": "stream",
     "text": [
      "1 3 6 10 15 21 28 36 45 55 66 78 91 105 120 136 153 171 190 210 "
     ]
    }
   ],
   "source": [
    "def somma(n):           # ritorna la somma dei numeri da 1 a n \n",
    "    c = 0\n",
    "    for i in range(n+1):\n",
    "        c=c+i\n",
    "    return c\n",
    "\n",
    "def somma_generatore():  #Notate questo generatore non prende argomenti di input\n",
    "    c = 0\n",
    "    i = 0\n",
    "    while(True):         # possiamo farci restituire una infinità di elementi\n",
    "        i=i+1\n",
    "        c=c+i\n",
    "        yield c          # arrivato qui, c viene ritornato e lo stati del generatore (valori di c ed i) congelato\n",
    "        \n",
    "somma = somma_generator() # somma è un generatore dove invochiamo next() per prendere gli elementi.\n",
    "\n",
    "for i in range(20):\n",
    "    print(next(somma), end = \" \" )"
   ]
  },
  {
   "cell_type": "code",
   "execution_count": 22,
   "metadata": {},
   "outputs": [
    {
     "name": "stdout",
     "output_type": "stream",
     "text": [
      "Fibonacci classico: 1 1 2 3 5 8 13 21 34 55 \n",
      "\n",
      "Fibonacci generatore: 1 1 2 3 5 8 13 21 34 55 "
     ]
    }
   ],
   "source": [
    "# definiamo la successione di Fibonacci classica: \n",
    "def fibonacci(n):\n",
    "    a = 0 \n",
    "    b = 1 \n",
    "    for i in range(n):\n",
    "        a , b = b, a+ b   # swap-values con le tuple!!!\n",
    "    return b\n",
    "\n",
    "print(\"Fibonacci classico:\", end = \" \")\n",
    "for i in range(10):\n",
    "    print(fibonacci(i),end = \" \")\n",
    "\n",
    "## definiamo il generatore associato alla successione di Fibonacci \n",
    "def fibonacci_generatore():\n",
    "    a = 0 \n",
    "    b = 1 \n",
    "    while(True):\n",
    "        yield b\n",
    "        a , b = b, a+ b   # swap-values con le tuple!!!\n",
    "        \n",
    "        \n",
    "print(\"\\n\")  # riga vuota\n",
    "print(\"Fibonacci generatore:\", end = \" \")\n",
    "generatore = fibonacci_generatore()\n",
    "for i in range(10):\n",
    "    print(next(generatore), end = \" \")"
   ]
  },
  {
   "cell_type": "code",
   "execution_count": 28,
   "metadata": {},
   "outputs": [
    {
     "name": "stdout",
     "output_type": "stream",
     "text": [
      "0 1 2 3 4 5 6 7 8 9 10 11 12 13 14 15 16 17 18 19 20 21 22 23 24 25 26 27 28 29 30 31 32 33 34 35 36 37 38 39 40 41 42 43 44 45 46 47 48 49 50 51 52 53 54 55 56 57 58 59 60 61 62 63 64 65 66 67 68 69 70 71 72 73 74 75 76 77 78 79 80 81 82 83 84 85 86 87 88 89 90 91 92 93 94 95 96 97 98 99 \n",
      "0 1 2 3 4 5 6 7 8 9 10 11 12 13 14 15 16 17 18 19 20 21 22 23 24 25 26 27 28 29 30 31 32 33 34 35 36 37 38 39 40 41 42 43 44 45 46 47 48 49 50 51 52 53 54 55 56 57 58 59 60 61 62 63 64 65 66 67 68 69 70 71 72 73 74 75 76 77 78 79 80 81 82 83 84 85 86 87 88 89 90 91 92 93 94 95 96 97 98 99 "
     ]
    }
   ],
   "source": [
    "# considerate il seguente codice\n",
    "\n",
    "for i in range(100):\n",
    "    print(i, end = \" \")\n",
    "# range in sostanza possiamo immaginarlo come una lista di elementi da 0 a 99 incluso, che viene creato\n",
    "# immediatamente e sul quale il ciclo for itera. Ovvero fin dall'inizio dobbiamo allocare una quantità di memoria\n",
    "# abbastanza grande! Possiamo rendere più efficiente (da un punto di vista d el consumo di memoria)\n",
    "# questo ciclo-for con l'uso di un generatore ....\n",
    "\n",
    "\n",
    "print()\n",
    "def new_range(n):\n",
    "    i = 0\n",
    "    while(i<n):\n",
    "        yield i\n",
    "        i=i+1\n",
    "        \n",
    "for i in new_range(100):  # new range non è una lista di 100 elementi ma un oggetto che calcola e restituisce al \n",
    "    print(i, end = \" \")   # volo l'elemento i-esimo!"
   ]
  },
  {
   "cell_type": "markdown",
   "metadata": {},
   "source": [
    "### Esercizi"
   ]
  },
  {
   "cell_type": "code",
   "execution_count": null,
   "metadata": {},
   "outputs": [],
   "source": [
    "# Esercizio 1\n",
    "# Definire una funzione  che prende due dizionari con chiavi a piacere e valori degli interi e ritorna un nuovo\n",
    "# dizionario che ha entrambe le chiavi dei dizionari, se una chiave è presente in entrambi i dizionari\n",
    "# effettua le somme dei valori. \n",
    "# es. {\"ciccio\":25, \"p\": 12} {\"ciccio\":2, \"q\":7} -> { \"ciccio\": 27, \"p\":12, \"q\":7}  "
   ]
  },
  {
   "cell_type": "code",
   "execution_count": null,
   "metadata": {},
   "outputs": [],
   "source": [
    "# Esercizio 2\n",
    "# Definire una funzione che prende come input una frase (insieme di stringhe intervallate da uno spazio)\n",
    "# e ritorna un dizionario che ha come chiavi delle lettere e come valori la parola in frase di lunghezza massima \n",
    "# che inizia proprio con quella lettera..\n",
    "# Esempio: \"mela pera macchina parmigiano console pittore piadina posizione carteggio foca\" restituisce: \n",
    "# {\"m\": \"macchina\", \"p\": \"posizione\", \"c\": \"carteggio\", \"f\":\"foca\"}\n",
    "# a parità di lunghezza si preferisce la prima parola incontrata. "
   ]
  },
  {
   "cell_type": "code",
   "execution_count": null,
   "metadata": {},
   "outputs": [],
   "source": [
    "# Esercizio 3\n",
    "# definire una funzione che prende in input una lista di numeri interi e ritorna una lista di stringhe, \n",
    "# corrispondenti ai numeri scritti in italiano\n",
    "# es. [1,0,7,9,8] -> [\"uno\",\"zero\",\"sette\",\"nove\",\"otto\"] "
   ]
  },
  {
   "cell_type": "code",
   "execution_count": 50,
   "metadata": {},
   "outputs": [
    {
     "name": "stdout",
     "output_type": "stream",
     "text": [
      "1 3 5 7 9 11 13 15 17 19 21 23 25 27 29 31 33 35 37 39 "
     ]
    }
   ],
   "source": [
    "# definiamo un generatore di numeri dispari \n",
    "def dispari():\n",
    "    i = 1 \n",
    "    while True: \n",
    "        yield i \n",
    "        i=i+2\n",
    "generatore = dispari()\n",
    "\n",
    "for i in range(20):\n",
    "    print(next(generatore), end = \" \") \n",
    "    \n",
    "# Esercizio 4 \n",
    "# definite un generatore di numeri primi"
   ]
  }
 ],
 "metadata": {
  "kernelspec": {
   "display_name": "Python 3",
   "language": "python",
   "name": "python3"
  },
  "language_info": {
   "codemirror_mode": {
    "name": "ipython",
    "version": 3
   },
   "file_extension": ".py",
   "mimetype": "text/x-python",
   "name": "python",
   "nbconvert_exporter": "python",
   "pygments_lexer": "ipython3",
   "version": "3.6.9"
  }
 },
 "nbformat": 4,
 "nbformat_minor": 2
}
