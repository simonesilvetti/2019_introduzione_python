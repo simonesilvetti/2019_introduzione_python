{
 "cells": [
  {
   "cell_type": "markdown",
   "metadata": {},
   "source": [
    "### Esercizi Lezione 2"
   ]
  },
  {
   "cell_type": "code",
   "execution_count": 3,
   "metadata": {},
   "outputs": [],
   "source": [
    "# Esercizio 2: scrivere una funzione che prende in input una stringa e ritorna True se è un palindromo, \n",
    "# False altrimenti (trovate almeno due modi diversi per farlo, uno si scrive in una riga)\n",
    "\n",
    "def palindromo_iter(parola):\n",
    "    i = 0\n",
    "    while(i<len(parola)//2):\n",
    "        if(parola[i]!=parola[-i-1]):\n",
    "            return False\n",
    "        i=i+1\n",
    "    return True\n",
    "\n",
    "def palindromo(parola):\n",
    "    return parola == parola[::-1]"
   ]
  },
  {
   "cell_type": "code",
   "execution_count": 4,
   "metadata": {},
   "outputs": [
    {
     "data": {
      "text/plain": [
       "True"
      ]
     },
     "execution_count": 4,
     "metadata": {},
     "output_type": "execute_result"
    }
   ],
   "source": [
    "palindromo_iter(\"anona\")"
   ]
  },
  {
   "cell_type": "code",
   "execution_count": 5,
   "metadata": {},
   "outputs": [
    {
     "data": {
      "text/plain": [
       "'Fizz-Buzz'"
      ]
     },
     "execution_count": 5,
     "metadata": {},
     "output_type": "execute_result"
    }
   ],
   "source": [
    "# Esercizio3: definire una funzione che prende in input numeri interi e ritorna 'Fizz' \n",
    "# se il numero è divisibile per 3, 'Buzz' se è divisibile per 5 e 'Fizz-Buzz' se è divisibile per entrambi. \n",
    "# Negli altri casi ritorna il numero stesso. \n",
    "# Esempio: fizzBuzz(1)=1, fizzBuzz(5)='Buzz', fizzBuzz(30)='Fizz-Buzz', fizzBuzz(9)='Fizz'\n",
    "def fizz_buzz(n):\n",
    "    if n % 3 == 0 and n % 5 == 0:\n",
    "        return 'Fizz-Buzz'\n",
    "    elif n % 3 == 0:\n",
    "         return 'Fizz'\n",
    "    elif n % 5 == 0:\n",
    "        return 'Buzz'\n",
    "    else:\n",
    "        return n\n",
    "fizz_buzz(15)"
   ]
  },
  {
   "cell_type": "markdown",
   "metadata": {},
   "source": [
    "#### Approfondimento su if-else e scope di una funzione. \n",
    "#### Occhio al valore di return..."
   ]
  },
  {
   "cell_type": "code",
   "execution_count": 6,
   "metadata": {},
   "outputs": [
    {
     "data": {
      "text/plain": [
       "12"
      ]
     },
     "execution_count": 6,
     "metadata": {},
     "output_type": "execute_result"
    }
   ],
   "source": [
    "def valore_assoluto(x):        #la parte di codice dove è definita la funzione è chiamato scope \n",
    "    if x < 0:\n",
    "        valore_assoluto = -x\n",
    "    else:\n",
    "        valore_assoluto = x\n",
    "    return valore_assoluto     # lo scope finisce qui\n",
    "\n",
    "valore_assoluto(-12)          # Siamo fuori dallo scope della funzione valore_assoluto"
   ]
  },
  {
   "cell_type": "code",
   "execution_count": 7,
   "metadata": {},
   "outputs": [
    {
     "data": {
      "text/plain": [
       "12"
      ]
     },
     "execution_count": 7,
     "metadata": {},
     "output_type": "execute_result"
    }
   ],
   "source": [
    "def valore_assoluto(x):\n",
    "    if x < 0:\n",
    "        return -x       \n",
    "    else:\n",
    "        return  x\n",
    "\n",
    "valore_assoluto(-12)"
   ]
  },
  {
   "cell_type": "code",
   "execution_count": 8,
   "metadata": {},
   "outputs": [
    {
     "data": {
      "text/plain": [
       "12"
      ]
     },
     "execution_count": 8,
     "metadata": {},
     "output_type": "execute_result"
    }
   ],
   "source": [
    "def valore_assoluto(x):\n",
    "    if x < 0:\n",
    "        return -x       \n",
    "    return  x            # in questo caso else può essere omesso\n",
    "\n",
    "valore_assoluto(-12)"
   ]
  },
  {
   "cell_type": "markdown",
   "metadata": {},
   "source": [
    "#### Scope di una funzione"
   ]
  },
  {
   "cell_type": "code",
   "execution_count": 9,
   "metadata": {},
   "outputs": [
    {
     "ename": "NameError",
     "evalue": "name 'a' is not defined",
     "output_type": "error",
     "traceback": [
      "\u001b[0;31m---------------------------------------------------------------------------\u001b[0m",
      "\u001b[0;31mNameError\u001b[0m                                 Traceback (most recent call last)",
      "\u001b[0;32m<ipython-input-9-4a6d91857f18>\u001b[0m in \u001b[0;36m<module>\u001b[0;34m\u001b[0m\n\u001b[1;32m      4\u001b[0m \u001b[0;34m\u001b[0m\u001b[0m\n\u001b[1;32m      5\u001b[0m \u001b[0mfunzione\u001b[0m\u001b[0;34m(\u001b[0m\u001b[0;36m2\u001b[0m\u001b[0;34m)\u001b[0m\u001b[0;34m\u001b[0m\u001b[0;34m\u001b[0m\u001b[0m\n\u001b[0;32m----> 6\u001b[0;31m \u001b[0mprint\u001b[0m\u001b[0;34m(\u001b[0m\u001b[0ma\u001b[0m\u001b[0;34m)\u001b[0m    \u001b[0;31m#<---- NameError: name 'a' is not defined\u001b[0m\u001b[0;34m\u001b[0m\u001b[0;34m\u001b[0m\u001b[0m\n\u001b[0m",
      "\u001b[0;31mNameError\u001b[0m: name 'a' is not defined"
     ]
    }
   ],
   "source": [
    "def funzione(x):\n",
    "    a=2*x         #<---- questa a non esiste al di fuori della funzione\n",
    "    return a\n",
    "\n",
    "funzione(2)\n",
    "print(a)    #<---- NameError: name 'a' is not defined"
   ]
  },
  {
   "cell_type": "code",
   "execution_count": null,
   "metadata": {},
   "outputs": [],
   "source": [
    "c=64                  #<---- sono diversi \n",
    "def funzione(x):\n",
    "    c=x               #<----- sono diversi, questa c esiste solo nello scope della funzione\n",
    "    return c\n",
    "#quanto vale c? \n",
    "print(\"c prima =\",c)\n",
    "funzione(12)\n",
    "print(\"c dopo =\",c)"
   ]
  },
  {
   "cell_type": "code",
   "execution_count": null,
   "metadata": {},
   "outputs": [],
   "source": [
    "c=12\n",
    "def funzione(x):\n",
    "    return c+x   #<--- se python non trova la definizione di c nello scope della funzione,\n",
    "funzione(2)      # lo cerca nello scope dell'elemento che contiene la funzione stessa. E procede in modo gerarchico. "
   ]
  },
  {
   "cell_type": "code",
   "execution_count": null,
   "metadata": {},
   "outputs": [],
   "source": [
    "c=64                  #<---- sono uguali \n",
    "def funzione(x):\n",
    "    global c          # global!! \n",
    "    c=x               #<----- è la stessa c, se la modifico cambia anche quella fuori della funzione\n",
    "    return c\n",
    "#quanto vale c? \n",
    "print(\"c prima =\",c)\n",
    "funzione(12)\n",
    "print(\"c dopo =\",c)"
   ]
  },
  {
   "cell_type": "code",
   "execution_count": null,
   "metadata": {},
   "outputs": [],
   "source": [
    "def fattoriale(n):\n",
    "    f = 1\n",
    "    i = n\n",
    "    while(i>0):\n",
    "        f = f * i\n",
    "        i = i-1\n",
    "    return f\n",
    "fattoriale(1)"
   ]
  },
  {
   "cell_type": "markdown",
   "metadata": {},
   "source": [
    "### Funzione ricorsiva "
   ]
  },
  {
   "cell_type": "code",
   "execution_count": null,
   "metadata": {},
   "outputs": [],
   "source": [
    "def fattoriale_ricorsivo(n):\n",
    "    if(n<0): #condizione di uscita!! Fondamentale per evitare che la computazione produca un \"RecursionError: maximum recursion depth exceeded\"\n",
    "        return 1\n",
    "    return n * fattoriale_ricorsivo(n-1) # chiamata ricorsiva\n",
    "fattoriale_ricorsivo(2)"
   ]
  },
  {
   "cell_type": "code",
   "execution_count": null,
   "metadata": {},
   "outputs": [],
   "source": [
    "#La funzione ricrosiva \"fattoriale_ricorsivo\" che per comodità chiamerò \"f\" effettua le seguenti chiamate:\n",
    "#f(9) = 9 * f(8)\n",
    "#f(8) = 8 * f(7)\n",
    "#... \n",
    "#f(0) = 1        # grazie alla condizione di uscita f(0) ha un valore definito, quindi f(1) è calcolabile, f(2) anche\n",
    "                 # e finalmente il valore di f(9) viene calcolato e mostrato all'utente"
   ]
  },
  {
   "cell_type": "markdown",
   "metadata": {},
   "source": [
    "#### Esercizio: Fibonacci\n"
   ]
  },
  {
   "cell_type": "code",
   "execution_count": null,
   "metadata": {},
   "outputs": [],
   "source": [
    "#La successione di Fibonacci è una sequenza di numeri dove i primi due sono 1 1 e gli altri la somma dei due numeri \n",
    "#precedenti es. 1 1 2 3 5 8 13 ... \n",
    "#definire una funzione che ritorni l'ennesimo numero di Fibonacci..\n",
    "def fibonacci(n):\n",
    "    if(n==0 or n==1):\n",
    "        return 1\n",
    "    return fibonacci(n-1) + fibonacci(n-2) \n",
    "    "
   ]
  },
  {
   "cell_type": "markdown",
   "metadata": {},
   "source": [
    "### in\n",
    "#### in è una parola chiave con due scopi\n",
    "- controllare se un elemento appartiene a una sequenza (stringa, lista, ...)\n",
    "- nel ciclo for per iterare sugli elementi di una sequenza"
   ]
  },
  {
   "cell_type": "code",
   "execution_count": null,
   "metadata": {},
   "outputs": [],
   "source": [
    "\"s\" in \"asso\""
   ]
  },
  {
   "cell_type": "code",
   "execution_count": null,
   "metadata": {},
   "outputs": [],
   "source": [
    "\"as\" in \"asso\""
   ]
  },
  {
   "cell_type": "code",
   "execution_count": null,
   "metadata": {},
   "outputs": [],
   "source": [
    "# esercizio definite una funzione che prende in input una parola e una lettere e ritorna True se\n",
    "#la lettera non è contenuta nella parola, False altrimenti\n",
    "def funzione1(lettera, parola):\n",
    "    return not (lettera in parola)   #<--- not logico\n",
    "def funzione2(lettera,parola):\n",
    "    return lettera not in parola     # scrittura alternativa\n",
    "print(funzione1(\"a\",\"fer\"))\n",
    "print(funzione2(\"a\",\"fer\"))"
   ]
  },
  {
   "cell_type": "code",
   "execution_count": null,
   "metadata": {},
   "outputs": [],
   "source": [
    "10 in [10, 23 , 2]"
   ]
  },
  {
   "cell_type": "markdown",
   "metadata": {},
   "source": [
    "### Ciclo for"
   ]
  },
  {
   "cell_type": "code",
   "execution_count": null,
   "metadata": {},
   "outputs": [],
   "source": [
    "# for <variabile> in <sequenza>:\n",
    "      #codice"
   ]
  },
  {
   "cell_type": "code",
   "execution_count": null,
   "metadata": {},
   "outputs": [],
   "source": [
    "for x in \"pippo\":  # questo è un ciclo for\n",
    "    print(x)"
   ]
  },
  {
   "cell_type": "markdown",
   "metadata": {},
   "source": [
    "#### Funzione range\n",
    "la funzione range genera una lista di numeri sui quali posso iterare con un ciclo for"
   ]
  },
  {
   "cell_type": "code",
   "execution_count": null,
   "metadata": {},
   "outputs": [],
   "source": [
    "for i in range(4,23):\n",
    "    print(i, end=\" \")"
   ]
  },
  {
   "cell_type": "code",
   "execution_count": null,
   "metadata": {},
   "outputs": [],
   "source": [
    "for i in range(23):\n",
    "    print(i, end=\" \")"
   ]
  },
  {
   "cell_type": "code",
   "execution_count": null,
   "metadata": {},
   "outputs": [],
   "source": [
    "for i in range(0,23,2):\n",
    "    print(i, end=\" \")"
   ]
  },
  {
   "cell_type": "code",
   "execution_count": null,
   "metadata": {},
   "outputs": [],
   "source": [
    "for i in range(23,0,-2):\n",
    "    print(i, end=\" \")"
   ]
  },
  {
   "cell_type": "code",
   "execution_count": null,
   "metadata": {},
   "outputs": [],
   "source": [
    "# Esercizio creare un funzione che prende in input un numero intero positivo e ritorna il numero di fibonacci corrispondente.\n",
    "# Sequenza di fibonacci\n",
    "# s_0 = 1\n",
    "# s_1 = 1\n",
    "# s_n = s_(n-1)+s_(n-2)\n",
    "\n",
    "def fibonacci(n):\n",
    "    a = 1\n",
    "    b = 1\n",
    "    for "
   ]
  },
  {
   "cell_type": "code",
   "execution_count": null,
   "metadata": {},
   "outputs": [],
   "source": [
    "\n",
    "# definire la funzione di fibonacci con il ciclo for\n",
    "def fibonacci(n):\n",
    "    a = 0 \n",
    "    b = 1 \n",
    "    for i in range(0,n):\n",
    "        temp = a\n",
    "        a = b\n",
    "        b = temp + b\n",
    "    return b"
   ]
  },
  {
   "cell_type": "code",
   "execution_count": null,
   "metadata": {},
   "outputs": [],
   "source": [
    "#stampare tutti i numeri multipli di 3 ma non di 4 compresi tra 0 e 120 incluso.\n",
    "\n",
    "for i in range(0,121):\n",
    "    if i%3==0 and i%4!=0:  \n",
    "        print(i)"
   ]
  },
  {
   "cell_type": "markdown",
   "metadata": {},
   "source": [
    "### Liste\n",
    "#### La lista è una sequenza ordinata di elementi eterogenei. E' un oggetto mutabile (posso cambiare il suo contenuto)"
   ]
  },
  {
   "cell_type": "code",
   "execution_count": null,
   "metadata": {},
   "outputs": [],
   "source": [
    "l = [\"s\", 1, 2.3] # questa è una lista, si usano le parentesi quadre per definirla.\n",
    "[] # questa è una lista vuota\n",
    "list() # questa è una lista vuota, uso il costruttore per definirla "
   ]
  },
  {
   "cell_type": "markdown",
   "metadata": {},
   "source": [
    "#### operazioni comuni a sequenze (array), li abbiamo già visti per le stringhe!"
   ]
  },
  {
   "cell_type": "code",
   "execution_count": null,
   "metadata": {},
   "outputs": [],
   "source": [
    "l = [\"s\", 1, 2.3]\n",
    "l[0]  # accedo al primo elemento della lista (elemento di indice 0)\n",
    "l[-1] # accedo all'ultimo elemento... funziona come nelle stringhe. \n",
    "\"s\" in l # verifico se è elemento è contenuto nella lista\n",
    "[1, 2, \"pippo\"] + [12, 23] # concateno due liste"
   ]
  },
  {
   "cell_type": "markdown",
   "metadata": {},
   "source": [
    "#### Le liste sono mutabili (posso cambiare i suoi elementi). (ricordate: LE STRINGHE SONO IMMUTABILI!)"
   ]
  },
  {
   "cell_type": "code",
   "execution_count": null,
   "metadata": {},
   "outputs": [],
   "source": [
    "l = [\"s\", 1, 2.3]\n",
    "l[0] = \"ciao\"\n",
    "print(l)"
   ]
  },
  {
   "cell_type": "markdown",
   "metadata": {},
   "source": [
    "#### Cancellare gli elementi da una lista (funzione del)"
   ]
  },
  {
   "cell_type": "code",
   "execution_count": null,
   "metadata": {},
   "outputs": [],
   "source": [
    "l = [\"s\", 1, 2.3]\n",
    "del(l[0])\n",
    "print(l)"
   ]
  },
  {
   "cell_type": "markdown",
   "metadata": {},
   "source": [
    "#### Aggiungere elementi a una lista (metodo append)"
   ]
  },
  {
   "cell_type": "code",
   "execution_count": null,
   "metadata": {},
   "outputs": [],
   "source": [
    "l = [23,3]\n",
    "l.append(4)\n",
    "print(l)"
   ]
  },
  {
   "cell_type": "markdown",
   "metadata": {},
   "source": [
    "#### Stringhe e liste (metodo split)"
   ]
  },
  {
   "cell_type": "code",
   "execution_count": null,
   "metadata": {},
   "outputs": [],
   "source": [
    "frase = \"ciao come va ?\"\n",
    "lista = frase.split()\n",
    "print(lista)"
   ]
  },
  {
   "cell_type": "code",
   "execution_count": null,
   "metadata": {},
   "outputs": [],
   "source": [
    "frase = \"ciao, come va ?\"\n",
    "lista = frase.split(\",\")\n",
    "print(lista)"
   ]
  },
  {
   "cell_type": "markdown",
   "metadata": {},
   "source": [
    "### List comprehension"
   ]
  },
  {
   "cell_type": "code",
   "execution_count": null,
   "metadata": {},
   "outputs": [],
   "source": [
    "# esercizio salviamo in una lista i numeri dispari compresi tra 12 e 79 (incluso)\n",
    "numeri_dispari=[]\n",
    "for i in range(12,80):     # occhio 79 incluso!!\n",
    "    if i%2==1:\n",
    "        numeri_dispari.append(i)\n",
    "print(numeri_dispari)       "
   ]
  },
  {
   "cell_type": "code",
   "execution_count": null,
   "metadata": {},
   "outputs": [],
   "source": [
    "l = [x for x in range(45,89) if x%3==1 and x>70]\n",
    "print(l)"
   ]
  },
  {
   "cell_type": "code",
   "execution_count": null,
   "metadata": {},
   "outputs": [],
   "source": [
    "# la list comprehension è un modo molto veloce per risolvere l'esercizio precedente\n",
    "numeri_dispari = [i for i in range(12,80) if i%2==1] \n",
    "print(numeri_dispari)"
   ]
  },
  {
   "cell_type": "markdown",
   "metadata": {},
   "source": [
    "#### Per definire una lista usando la List comprehension basta includere in delle parentesi quadre la definizione dell'elemento appartenente alla lista esempio:"
   ]
  },
  {
   "cell_type": "code",
   "execution_count": null,
   "metadata": {},
   "outputs": [],
   "source": [
    "# se vogliamo definire la lista dei numeri dispari compresi tra 20 e 133 scriveremo:\n",
    "#[n dove n è compreso tra 20 e 133 ed è dispari] -> [n for n in range(20,133) if n%2==1]"
   ]
  },
  {
   "cell_type": "code",
   "execution_count": null,
   "metadata": {},
   "outputs": [],
   "source": [
    "# altro esempio: le terne pitagoriche\n",
    "terne = [[a,b,c] for a in range(1,90) for b in range(1,90) for c in range(1,90) if a**2+b**2==c**2]\n",
    "print(terne)"
   ]
  },
  {
   "cell_type": "markdown",
   "metadata": {},
   "source": [
    "## Insiemi\n",
    "collezione di oggetti unici e immutabili! "
   ]
  },
  {
   "cell_type": "code",
   "execution_count": null,
   "metadata": {},
   "outputs": [],
   "source": [
    "s = {\"a\",\"b\",\"a\"}\n",
    "print(s)"
   ]
  },
  {
   "cell_type": "code",
   "execution_count": null,
   "metadata": {},
   "outputs": [],
   "source": [
    "len(s)  #cardinalità dell'insieme s\n",
    "x in s     #verifica x come membro di s\n",
    "x not in s #verifica che x non sia un membro di s\n",
    "s.issubset(t) # s<= t verifica se ogni elemento in s è in t\n",
    "s.issuperset(t) # s >= t verifica se ogni elemento in t è in s\n",
    "s.union(t) # s | t nuovo insieme con elementi sia di s che di t\n",
    "s.intersection(t) #s & t nuovo insieme con elementi comuni tra s e t\n",
    "s.difference(t) #s - t nuovo insieme con elementi in s ma non in t\n",
    "s.symmetric_difference(t)# s ^ t nuovo insieme con gli elementi di s o t ma non entrambi"
   ]
  },
  {
   "cell_type": "code",
   "execution_count": null,
   "metadata": {},
   "outputs": [],
   "source": [
    "s = {1,2,5} \n",
    "b = {5,6}\n",
    "c = s.union(b)\n",
    "i = s & b   # scrittura alternativa.\n",
    "print(i)"
   ]
  },
  {
   "cell_type": "code",
   "execution_count": null,
   "metadata": {},
   "outputs": [],
   "source": [
    "# ricordate gli insiemi posso contenere solo oggetti immutabili...\n",
    "# a è una lista ovvero un oggetto mutabile e non può essere un elemento di un insieme...\n",
    "a = [1,2,3]\n",
    "c = {a, 3}\n",
    "a in c "
   ]
  },
  {
   "cell_type": "markdown",
   "metadata": {},
   "source": [
    "### Set comprehension\n",
    "similmente alla lista posso definire gli insiemi in modo rapido.... "
   ]
  },
  {
   "cell_type": "code",
   "execution_count": null,
   "metadata": {},
   "outputs": [],
   "source": [
    " a = {a + b +c  for a in range(1,90) for b in range(1,90) for c in range(1,90) if a**2+b**2==c**2}"
   ]
  },
  {
   "cell_type": "code",
   "execution_count": null,
   "metadata": {},
   "outputs": [],
   "source": [
    "print(a)"
   ]
  },
  {
   "cell_type": "markdown",
   "metadata": {},
   "source": [
    "### Esercizi "
   ]
  },
  {
   "cell_type": "code",
   "execution_count": 5,
   "metadata": {},
   "outputs": [
    {
     "ename": "SyntaxError",
     "evalue": "unexpected EOF while parsing (<ipython-input-5-318b9c359985>, line 10)",
     "output_type": "error",
     "traceback": [
      "\u001b[0;36m  File \u001b[0;32m\"<ipython-input-5-318b9c359985>\"\u001b[0;36m, line \u001b[0;32m10\u001b[0m\n\u001b[0;31m    # effettua la chiamata ricorsiva....\u001b[0m\n\u001b[0m                                         ^\u001b[0m\n\u001b[0;31mSyntaxError\u001b[0m\u001b[0;31m:\u001b[0m unexpected EOF while parsing\n"
     ]
    }
   ],
   "source": [
    "# Esercizio 1 - funzioni ricorsive\n",
    "#Definire una funzione ricorsiva che calcoli la divisione intera tra due numeri usando solo somme sottrazioni e\n",
    "# operatori relazionali. Immaginate di voler calcolare la divisione intera tra\n",
    "#n ed m, d ove n>m.  L'idea di base è sottraggo m da n tante volte quante riesco e tengo traccia di quante volte\n",
    "#l'ho fatto. Per farlo in modo ricorsivo non posso inizializzare un contatore all'interno della funzione \n",
    "#altrimenti alla successiva chiamata ricorsiva questo viene reinizializzato... \n",
    "def divisione_intera(n,m,c=0): # salvo nela parametro di input quante volt ho chiamato la funzione divisione_intera\n",
    "    \n",
    "    # scrivi la condizione di uscita\n",
    "    # incrementa qualcosa...\n",
    "    # effettua la chiamata ricorsiva.... "
   ]
  },
  {
   "cell_type": "code",
   "execution_count": null,
   "metadata": {},
   "outputs": [],
   "source": [
    "# Esercizio 2 - List comprehension\n",
    "# Definite una funzione che prende in input una lista di parole L e ritorna una lista di interi rappresentante \n",
    "# la lunghezza delle parole di L.\n",
    "# es. [\"ciccio\",\"pino\",\"ma\"] -> [6,4,2]"
   ]
  },
  {
   "cell_type": "code",
   "execution_count": null,
   "metadata": {},
   "outputs": [],
   "source": [
    "# Esercizio 3 - Parentesi \n",
    "# Definite una funzione che prende in input una stringa\n",
    "# rappresentate una sequenza di parentesi (es. \"()(())()\") e ritorna True se la sequenza è ben formata\n",
    "# False altrimenti. Ben formata significa che ogni parentesi aperta viene chiusa e ogni parentesi chiusa è stata \n",
    "# effettivamente aperta.\n",
    "# Esempi. \n",
    "# ()() -> True\n",
    "# (  -> False parentesi aperta e mai chiusa+\n",
    "# )  -> False, parentesi chiusa e mai aperta\n",
    "# ())-> False l'ultima parentesi non è stata aperta"
   ]
  },
  {
   "cell_type": "code",
   "execution_count": null,
   "metadata": {},
   "outputs": [],
   "source": [
    "#Esercizio 4 - List comprehension\n",
    "# definire una funzione che prenda una lista di numeri interi e ritorni una lista di due elementi\n",
    "# contente il massimo e il minimo. \n",
    "# esempio: \n",
    "# min_max([1,4,2,6,3,7,2]) -> [1,7]\n",
    "# min_max([1])->[1,1]\n",
    "# min_max([])->[None,None]"
   ]
  },
  {
   "cell_type": "markdown",
   "metadata": {},
   "source": [
    "#### Come importare moduli "
   ]
  },
  {
   "cell_type": "code",
   "execution_count": 8,
   "metadata": {},
   "outputs": [
    {
     "name": "stdout",
     "output_type": "stream",
     "text": [
      "Help on method randint in module random:\n",
      "\n",
      "randint(a, b) method of random.Random instance\n",
      "    Return random integer in range [a, b], including both end points.\n",
      "\n"
     ]
    }
   ],
   "source": [
    "# per importare una modulo esterno (ovvero una pacchetto di Python che contiene funzioni aggiuntive)\n",
    "# usiamo il comando import, per esempio \n",
    "import random # importa un modulo utile per generare numeri casuali \n",
    "#nel prossimo esercizio useremo il metodo randint che genera numeri interi casuali. \n",
    "help(random.randint) "
   ]
  },
  {
   "cell_type": "code",
   "execution_count": null,
   "metadata": {},
   "outputs": [],
   "source": [
    "# Esercizio 5 - Random 1\n",
    "# Usate la funzione random per generare una lista di 10 elementi formata da numeri interi casuali \n",
    "# compresi tra 2 e 8 (incluso!)"
   ]
  },
  {
   "cell_type": "code",
   "execution_count": null,
   "metadata": {},
   "outputs": [],
   "source": [
    "# Esercizio 6 - Random 2\n",
    "# Definire una funzione che accetta come input un numero intero (n) tra 0 e 9 e genera una stringa di numeri\n",
    "# casuali che deve contenere n solo in ultima posizione. Se n non è in [0,9] la funzione deve ritornare 'fail'.\n",
    "# Esempio: \n",
    "# randomNumber(3) può generare 124573, oppure 14587413 ma non deve generare 13245783 (perchè c'è un 3\n",
    "# in posizione 2), e non deve generare 124574 (perchè non c'è il 3) etc. \n",
    "# randomNumber(57) ritorna 'fail' perchè 57 non è in [0,9]\n",
    "\n",
    "import random\n",
    "def randomNumber(n):\n",
    "   #scrivi qui"
   ]
  }
 ],
 "metadata": {
  "kernelspec": {
   "display_name": "Python 3",
   "language": "python",
   "name": "python3"
  },
  "language_info": {
   "codemirror_mode": {
    "name": "ipython",
    "version": 3
   },
   "file_extension": ".py",
   "mimetype": "text/x-python",
   "name": "python",
   "nbconvert_exporter": "python",
   "pygments_lexer": "ipython3",
   "version": "3.6.9"
  }
 },
 "nbformat": 4,
 "nbformat_minor": 2
}
