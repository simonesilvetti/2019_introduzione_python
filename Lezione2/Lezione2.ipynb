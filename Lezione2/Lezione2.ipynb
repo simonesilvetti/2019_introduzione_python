{
 "cells": [
  {
   "cell_type": "markdown",
   "metadata": {},
   "source": [
    "# LEZIONE 2"
   ]
  },
  {
   "cell_type": "markdown",
   "metadata": {},
   "source": [
    "### Operazioni con le Stringhe"
   ]
  },
  {
   "cell_type": "code",
   "execution_count": 1,
   "metadata": {},
   "outputs": [
    {
     "name": "stdout",
     "output_type": "stream",
     "text": [
      "ciao come stai?\n",
      "ciaociaociao\n"
     ]
    }
   ],
   "source": [
    "#concatenazione (+)\n",
    "concatenazione = \"ciao \"+ \"come stai?\"\n",
    "print(concatenazione)\n",
    "\n",
    "#\"moltiplicazione\" (*)\n",
    "a = \"ciao\"\n",
    "print(3*a)"
   ]
  },
  {
   "cell_type": "code",
   "execution_count": 2,
   "metadata": {},
   "outputs": [
    {
     "ename": "TypeError",
     "evalue": "unsupported operand type(s) for -: 'str' and 'str'",
     "output_type": "error",
     "traceback": [
      "\u001b[0;31m---------------------------------------------------------------------------\u001b[0m",
      "\u001b[0;31mTypeError\u001b[0m                                 Traceback (most recent call last)",
      "\u001b[0;32m<ipython-input-2-516670898133>\u001b[0m in \u001b[0;36m<module>\u001b[0;34m\u001b[0m\n\u001b[1;32m      1\u001b[0m \u001b[0;31m# operazioni non permesse\u001b[0m\u001b[0;34m\u001b[0m\u001b[0;34m\u001b[0m\u001b[0;34m\u001b[0m\u001b[0m\n\u001b[0;32m----> 2\u001b[0;31m \u001b[0;34m\"a\"\u001b[0m\u001b[0;34m-\u001b[0m\u001b[0;34m\"b\"\u001b[0m\u001b[0;34m\u001b[0m\u001b[0;34m\u001b[0m\u001b[0m\n\u001b[0m\u001b[1;32m      3\u001b[0m \u001b[0;34m\"a\"\u001b[0m\u001b[0;34m**\u001b[0m\u001b[0;36m2\u001b[0m\u001b[0;34m\u001b[0m\u001b[0;34m\u001b[0m\u001b[0m\n",
      "\u001b[0;31mTypeError\u001b[0m: unsupported operand type(s) for -: 'str' and 'str'"
     ]
    }
   ],
   "source": [
    "# operazioni non permesse\n",
    "\"a\"-\"b\"\n",
    "\"a\"**2"
   ]
  },
  {
   "cell_type": "code",
   "execution_count": null,
   "metadata": {},
   "outputs": [],
   "source": [
    "print(\"ciao mi chiamo {}\".format(\"Simone\"))"
   ]
  },
  {
   "cell_type": "code",
   "execution_count": null,
   "metadata": {},
   "outputs": [],
   "source": [
    "print(\"ciao mi chiamo \"+\"Simone\")"
   ]
  },
  {
   "cell_type": "code",
   "execution_count": null,
   "metadata": {},
   "outputs": [],
   "source": [
    "print(\"ciao ho {} anni\".format(30))"
   ]
  },
  {
   "cell_type": "code",
   "execution_count": null,
   "metadata": {},
   "outputs": [],
   "source": [
    "# Per concatenare una stringa e un intero devo trasformare l'intero in una stringa. \n",
    "# Per farlo uso il costruttore della classe stringa che è str...\n",
    "print(\"ciao ho \"+str(30)+\" anni\")"
   ]
  },
  {
   "cell_type": "code",
   "execution_count": null,
   "metadata": {},
   "outputs": [],
   "source": [
    "# Viceversa posso costruire un float a partire da una stringa... \n",
    "a = float(\"30.32\")\n",
    "a"
   ]
  },
  {
   "cell_type": "markdown",
   "metadata": {},
   "source": [
    "### Le stringhe sono degli array\n",
    "ovvero un insieme ordinato di caratteri"
   ]
  },
  {
   "cell_type": "markdown",
   "metadata": {},
   "source": [
    "![stringa_vettore](img/hello.png)"
   ]
  },
  {
   "cell_type": "markdown",
   "metadata": {},
   "source": [
    "#### Selezionare un elemento [vale per gli array]"
   ]
  },
  {
   "cell_type": "code",
   "execution_count": null,
   "metadata": {},
   "outputs": [],
   "source": [
    "s = \"pippo\"\n",
    "s[1:4:2]"
   ]
  },
  {
   "cell_type": "code",
   "execution_count": null,
   "metadata": {},
   "outputs": [],
   "source": [
    "s = \"Hello\"\n",
    "print('s = ',s)\n",
    "print('s[0] :',s[0])     # il primo elemento è l'elemento di indice zero\n",
    "print('s[-1] :',s[-1])   # l'ultimo elemento ha indice uguale a -1, o a lunghezza delle stringa - 1\n",
    "print('s[-2] :',s[-2])"
   ]
  },
  {
   "cell_type": "markdown",
   "metadata": {},
   "source": [
    "#### Selezionare una sottostringa (operatore di slicing) [vale per gli array]\n",
    "s[indice_incluso:indice_escluso:passo]"
   ]
  },
  {
   "cell_type": "code",
   "execution_count": null,
   "metadata": {},
   "outputs": [],
   "source": [
    "s = \"Hello\"\n",
    "print('s = ',s)\n",
    "print('s[2:4] :',s[2:4]) # l'elemento di indice 4 è ESCLUSO!!!!\n",
    "print('s[2:] :',s[2:])   # se non metto nulla si intende fino alla fine\n",
    "print('s[:4] :',s[:4])   # o dall'inizio"
   ]
  },
  {
   "cell_type": "code",
   "execution_count": null,
   "metadata": {},
   "outputs": [],
   "source": [
    "#### Intervallo dello slicing [vale per gli array]\n",
    "[a:b:c] -> a, a+c, a+2c, a+3c, ..., strettamente più piccoli di b "
   ]
  },
  {
   "cell_type": "code",
   "execution_count": null,
   "metadata": {},
   "outputs": [],
   "source": [
    "s = \"supercalifragilistichespiralidoso\"\n",
    "print('s = ',s)\n",
    "print('s[1:10:2] :',s[1:10:2])\n",
    "print('s[2::2] :',s[2::2]) # selezionare gli elementi partendo da quello di indice 2 fino alla fine\n",
    "                           # con intervallo di 2\n",
    "print('s[10:7:-1] :',s[10:7:-1])\n",
    "print('s[::-1] :',s[::-1])"
   ]
  },
  {
   "cell_type": "markdown",
   "metadata": {},
   "source": [
    "#### Lunghezza di una stringa [vale per gli array]"
   ]
  },
  {
   "cell_type": "code",
   "execution_count": null,
   "metadata": {},
   "outputs": [],
   "source": [
    "print('len(s): ', len(s))    # calcolare la lunghezza di un array"
   ]
  },
  {
   "cell_type": "code",
   "execution_count": null,
   "metadata": {},
   "outputs": [],
   "source": [
    "s = \"supercalifragilistichespiralidoso\"\n",
    "s_new = \"r\"+s[1:]\n",
    "print(s_new)"
   ]
  },
  {
   "cell_type": "code",
   "execution_count": null,
   "metadata": {},
   "outputs": [],
   "source": [
    "s[0]"
   ]
  },
  {
   "cell_type": "markdown",
   "metadata": {},
   "source": [
    "#### Altri metodi/funzioni [non valgono per gli array]"
   ]
  },
  {
   "cell_type": "code",
   "execution_count": null,
   "metadata": {},
   "outputs": [],
   "source": [
    "s = 'Pippo'\n",
    "print('s = ',s)\n",
    "print(\"s.count('p'): \",s.count('p'))  # Python è case sesitive P non è uguale a p!!\n",
    "s_new = s.replace('p','d')\n",
    "print(\"\")\n",
    "print(\"s_new = s.replace('p','d')\")\n",
    "print('s = ',s)\n",
    "print('s_new = ',s_new)"
   ]
  },
  {
   "cell_type": "markdown",
   "metadata": {},
   "source": [
    "#### Le stringhe sono immutabili non posso cambiare i loro elementi"
   ]
  },
  {
   "cell_type": "code",
   "execution_count": null,
   "metadata": {},
   "outputs": [],
   "source": [
    "s = 'ciao'\n",
    "s[2] = 'r'"
   ]
  },
  {
   "cell_type": "code",
   "execution_count": null,
   "metadata": {},
   "outputs": [],
   "source": [
    "help(str)"
   ]
  },
  {
   "cell_type": "markdown",
   "metadata": {},
   "source": [
    "#### Esercizio 3\n",
    "considerate la stringa \"ciao\" trovate il modo di sostituire la \"a\" con la \"r\" senza usare la funzione replace. "
   ]
  },
  {
   "cell_type": "markdown",
   "metadata": {},
   "source": [
    "## Input da tastiera"
   ]
  },
  {
   "cell_type": "code",
   "execution_count": null,
   "metadata": {},
   "outputs": [],
   "source": [
    "#esiste la funzione input(..) per passare delle stringhe(!!!) al programma in esecuzione, \n",
    "#ed assegnarle a delle variabili. \n",
    "#Esempio: \n",
    "base_del_triangolo = input('base del Triangolo:') \n",
    "#nella variabile base_del_triangolo verrà memorizzata una stringa."
   ]
  },
  {
   "cell_type": "code",
   "execution_count": null,
   "metadata": {},
   "outputs": [],
   "source": [
    "base_del_triangolo"
   ]
  },
  {
   "cell_type": "code",
   "execution_count": null,
   "metadata": {},
   "outputs": [],
   "source": [
    "base = float(input(\"Base:\"))\n",
    "altezza = float(input(\"Altezza:\"))\n",
    "print(\"Area:\",base*altezza)"
   ]
  },
  {
   "cell_type": "code",
   "execution_count": null,
   "metadata": {},
   "outputs": [],
   "source": [
    "#Esercizio2\n",
    "#input \"Base del rettangolo:\" 4  \n",
    "#input \"Altezza del rettangolo:\" 3\n",
    "#stampa : L'area del rettangolo è 12.\n",
    "\n",
    "base  = int(input('Base del rettangolo:')) \n",
    "altezza = int(input('Altezza del rettangolo')) \n",
    "print(\"L'area del rettangolo è\", base*altezza)"
   ]
  },
  {
   "cell_type": "markdown",
   "metadata": {},
   "source": [
    "## Definire delle funzioni"
   ]
  },
  {
   "cell_type": "code",
   "execution_count": null,
   "metadata": {},
   "outputs": [],
   "source": [
    "# le funzioni posso ritornare un valore...\n",
    "def potenza(n,m):\n",
    "    p=n**m\n",
    "    return p"
   ]
  },
  {
   "cell_type": "code",
   "execution_count": null,
   "metadata": {},
   "outputs": [],
   "source": [
    "a = potenza(2,3)\n",
    "print(a+1)"
   ]
  },
  {
   "cell_type": "code",
   "execution_count": null,
   "metadata": {},
   "outputs": [],
   "source": [
    "#... oppure no \n",
    "def stampa(a,b):\n",
    "    print(a,b)\n",
    "s = stampa(12,\"d\")"
   ]
  },
  {
   "cell_type": "code",
   "execution_count": null,
   "metadata": {},
   "outputs": [],
   "source": [
    "print(s)"
   ]
  },
  {
   "cell_type": "markdown",
   "metadata": {},
   "source": [
    "##### funzioni con parametri inizializzati"
   ]
  },
  {
   "cell_type": "code",
   "execution_count": 3,
   "metadata": {},
   "outputs": [],
   "source": [
    "def somma(x,y=12):\n",
    "    return x+y"
   ]
  },
  {
   "cell_type": "code",
   "execution_count": 4,
   "metadata": {},
   "outputs": [
    {
     "data": {
      "text/plain": [
       "57"
      ]
     },
     "execution_count": 4,
     "metadata": {},
     "output_type": "execute_result"
    }
   ],
   "source": [
    "somma(34,23)"
   ]
  },
  {
   "cell_type": "code",
   "execution_count": 5,
   "metadata": {},
   "outputs": [],
   "source": [
    "def operazione(x,y):\n",
    "    return 3*somma(x,y)"
   ]
  },
  {
   "cell_type": "code",
   "execution_count": 6,
   "metadata": {},
   "outputs": [
    {
     "data": {
      "text/plain": [
       "6"
      ]
     },
     "execution_count": 6,
     "metadata": {},
     "output_type": "execute_result"
    }
   ],
   "source": [
    "operazione(1,1)"
   ]
  },
  {
   "cell_type": "code",
   "execution_count": null,
   "metadata": {},
   "outputs": [],
   "source": []
  },
  {
   "cell_type": "code",
   "execution_count": null,
   "metadata": {},
   "outputs": [],
   "source": []
  },
  {
   "cell_type": "markdown",
   "metadata": {},
   "source": [
    "#### Usare funzioni dentro altre funzioni"
   ]
  },
  {
   "cell_type": "code",
   "execution_count": 7,
   "metadata": {},
   "outputs": [],
   "source": [
    "def divisibile(x):\n",
    "    def fun(y):\n",
    "        return y+x\n",
    "    return fun"
   ]
  },
  {
   "cell_type": "code",
   "execution_count": 8,
   "metadata": {},
   "outputs": [
    {
     "name": "stdout",
     "output_type": "stream",
     "text": [
      "12\n"
     ]
    }
   ],
   "source": [
    "def successore(x):\n",
    "    return x+1\n",
    "\n",
    "def n_successore(x):\n",
    "    def fun(y):\n",
    "        return x + y\n",
    "    return fun\n",
    "\n",
    "successore10 = n_successore(10) #successore10 è una funzione che prende un numero come input e ritorna 10 + quel numero.\n",
    "print(successore10(2))"
   ]
  },
  {
   "cell_type": "markdown",
   "metadata": {},
   "source": [
    "####  A cosa servono le funzioni?"
   ]
  },
  {
   "cell_type": "code",
   "execution_count": 9,
   "metadata": {},
   "outputs": [
    {
     "name": "stdout",
     "output_type": "stream",
     "text": [
      "4:31\n"
     ]
    }
   ],
   "source": [
    "#scrivere codice in maniera comprensibile e pulita\n",
    "#esempio\n",
    "partenza = '12:52'\n",
    "arrivo = '17:23'\n",
    "orario_partenza = partenza.split(':')\n",
    "orario_arrivo = arrivo.split(':')\n",
    "tot = int(orario_arrivo[1])+int(orario_arrivo[0])*60 - (int(orario_partenza[1])+int(orario_partenza[0])*60)\n",
    "print('{}:{}'.format(tot//60,tot%60))"
   ]
  },
  {
   "cell_type": "code",
   "execution_count": 10,
   "metadata": {},
   "outputs": [
    {
     "name": "stdout",
     "output_type": "stream",
     "text": [
      "4:31\n"
     ]
    }
   ],
   "source": [
    "#inoltre evitiamo la duplicazione di codice. \n",
    "def minuti_totali(orario_string):\n",
    "    orario = orario_string.split(':')\n",
    "    return int(orario[1])+int(orario[0])*60 \n",
    "def to_string(minuti):\n",
    "    return '{}:{}'.format(minuti//60,minuti%60)\n",
    "\n",
    "partenza = '12:52'\n",
    "arrivo = '17:23'\n",
    "tot=minuti_totali(arrivo) - minuti_totali(partenza)\n",
    "print(to_string(tot))"
   ]
  },
  {
   "cell_type": "code",
   "execution_count": 11,
   "metadata": {},
   "outputs": [],
   "source": [
    "#definiamo una funzione  che sostituisce <carattere> nella <parola> nella posizione di indice <indice> \n",
    "def sostituzione(parola, carattere, indice):\n",
    "    prima = parola[:indice]\n",
    "    dopo = parola[indice+1:]\n",
    "    return prima+carattere+dopo\n",
    "    \n"
   ]
  },
  {
   "cell_type": "code",
   "execution_count": 12,
   "metadata": {},
   "outputs": [
    {
     "name": "stdout",
     "output_type": "stream",
     "text": [
      "pirpo\n"
     ]
    }
   ],
   "source": [
    "a = sostituzione(\"pippo\",\"r\",2)\n",
    "print(a)\n"
   ]
  },
  {
   "cell_type": "markdown",
   "metadata": {},
   "source": [
    "## Booleani\n",
    "Short circuiting - provate a valutare le seguenti espressioni\n"
   ]
  },
  {
   "cell_type": "code",
   "execution_count": 13,
   "metadata": {},
   "outputs": [
    {
     "name": "stdout",
     "output_type": "stream",
     "text": [
      "True and False -> False\n",
      "True and 3 -> 3\n",
      "3 and True -> True\n",
      "True or 3 -> True\n",
      "3 or 4 -> 3\n",
      "0 or 4 -> 4\n",
      "True and False or 5 -> 5\n",
      "False and 1/0 -> False\n"
     ]
    },
    {
     "ename": "ZeroDivisionError",
     "evalue": "division by zero",
     "output_type": "error",
     "traceback": [
      "\u001b[0;31m---------------------------------------------------------------------------\u001b[0m",
      "\u001b[0;31mZeroDivisionError\u001b[0m                         Traceback (most recent call last)",
      "\u001b[0;32m<ipython-input-13-17c404e2f2b2>\u001b[0m in \u001b[0;36m<module>\u001b[0;34m\u001b[0m\n\u001b[1;32m      7\u001b[0m \u001b[0mprint\u001b[0m\u001b[0;34m(\u001b[0m\u001b[0;34m'True and False or 5 ->'\u001b[0m\u001b[0;34m,\u001b[0m\u001b[0;32mTrue\u001b[0m \u001b[0;32mand\u001b[0m \u001b[0;32mFalse\u001b[0m \u001b[0;32mor\u001b[0m \u001b[0;36m5\u001b[0m\u001b[0;34m)\u001b[0m\u001b[0;34m\u001b[0m\u001b[0;34m\u001b[0m\u001b[0m\n\u001b[1;32m      8\u001b[0m \u001b[0mprint\u001b[0m\u001b[0;34m(\u001b[0m\u001b[0;34m'False and 1/0 ->'\u001b[0m\u001b[0;34m,\u001b[0m \u001b[0;32mFalse\u001b[0m \u001b[0;32mand\u001b[0m \u001b[0;36m1\u001b[0m\u001b[0;34m/\u001b[0m\u001b[0;36m0\u001b[0m\u001b[0;34m)\u001b[0m\u001b[0;34m\u001b[0m\u001b[0;34m\u001b[0m\u001b[0m\n\u001b[0;32m----> 9\u001b[0;31m \u001b[0mprint\u001b[0m\u001b[0;34m(\u001b[0m\u001b[0;34m'False or 1/0 ->'\u001b[0m\u001b[0;34m,\u001b[0m\u001b[0;32mFalse\u001b[0m \u001b[0;32mor\u001b[0m \u001b[0;36m1\u001b[0m\u001b[0;34m/\u001b[0m\u001b[0;36m0\u001b[0m\u001b[0;34m)\u001b[0m\u001b[0;34m\u001b[0m\u001b[0;34m\u001b[0m\u001b[0m\n\u001b[0m",
      "\u001b[0;31mZeroDivisionError\u001b[0m: division by zero"
     ]
    }
   ],
   "source": [
    "print('True and False ->',True and False)\n",
    "print('True and 3 ->',True and 3)\n",
    "print('3 and True ->',3 and True)\n",
    "print('True or 3 ->',True or 3)\n",
    "print('3 or 4 ->',3 or 4)\n",
    "print('0 or 4 ->',0 or 4)\n",
    "print('True and False or 5 ->',True and False or 5)\n",
    "print('False and 1/0 ->', False and 1/0)\n",
    "print('False or 1/0 ->',False or 1/0)"
   ]
  },
  {
   "cell_type": "markdown",
   "metadata": {},
   "source": [
    "I numeri hanno un valore di verità. '0' corrisponde a False, tutti gli altri a True."
   ]
  },
  {
   "cell_type": "code",
   "execution_count": null,
   "metadata": {},
   "outputs": [],
   "source": [
    "print('bool(0) ->',bool(0))   #bool è il contruttore della classe dei booleani!\n",
    "print('bool(1) ->',bool(1))\n",
    "print('bool(1.2) ->',bool(1.2))"
   ]
  },
  {
   "cell_type": "code",
   "execution_count": null,
   "metadata": {},
   "outputs": [],
   "source": [
    "int(True)"
   ]
  },
  {
   "cell_type": "code",
   "execution_count": null,
   "metadata": {},
   "outputs": [],
   "source": [
    "int(False)"
   ]
  },
  {
   "cell_type": "code",
   "execution_count": null,
   "metadata": {},
   "outputs": [],
   "source": [
    "True or 1/0  # 1/0 non viene valutato perchè l'espressione è vera grazie al primo True (short-circuiting)"
   ]
  },
  {
   "cell_type": "code",
   "execution_count": null,
   "metadata": {},
   "outputs": [],
   "source": [
    "a = 12>26   # abbiamo ance il maggiore-uguale >=, il minore < e minore-ugugale <=\n",
    "print(a)"
   ]
  },
  {
   "cell_type": "code",
   "execution_count": null,
   "metadata": {},
   "outputs": [],
   "source": [
    "12==12"
   ]
  },
  {
   "cell_type": "code",
   "execution_count": null,
   "metadata": {},
   "outputs": [],
   "source": [
    "int(True)"
   ]
  },
  {
   "cell_type": "code",
   "execution_count": null,
   "metadata": {},
   "outputs": [],
   "source": [
    "#definiamo una funzione che ritorna x se x>43, zero altrilmenti\n",
    "def funzione(x):\n",
    "    return x * int(x>43)\n",
    "funzione(45)"
   ]
  },
  {
   "cell_type": "markdown",
   "metadata": {},
   "source": [
    "## Espressioni condizionali\n",
    "if, elif, else"
   ]
  },
  {
   "cell_type": "code",
   "execution_count": null,
   "metadata": {},
   "outputs": [],
   "source": [
    "a = 18\n",
    "b = 15 \n",
    "c = 23\n",
    "if(a<b):\n",
    "    print(\"{} è minore di {}\".format(a,b))\n",
    "elif(b<=a and a<c):\n",
    "    print()\n",
    "else:\n",
    "    print(\"{} è minore di {}\".format(a,b))"
   ]
  },
  {
   "cell_type": "markdown",
   "metadata": {},
   "source": [
    "## Interazioni: il ciclo while"
   ]
  },
  {
   "cell_type": "code",
   "execution_count": null,
   "metadata": {},
   "outputs": [],
   "source": [
    "i = 0\n",
    "while i < 10:\n",
    "    print(i)\n",
    "    i=i+1  "
   ]
  },
  {
   "cell_type": "markdown",
   "metadata": {},
   "source": [
    "### Esercizi"
   ]
  },
  {
   "cell_type": "code",
   "execution_count": null,
   "metadata": {},
   "outputs": [],
   "source": [
    "# Esercizio 1\n",
    "# Definite una funzione che prende in input una <stringa> di numeri interi, es \"1023123817263901827\"\n",
    "# un numero intero <n> e conta quante volte n è ripetuto nella stringa. \n",
    "# Esempio: esercizio1(\"1023123817263901827\",2) -> 4 \n",
    "# Vietato usare il metodo count! \n",
    "\n",
    "def esercizio1(stringa,n):\n",
    "    # scrivi qui"
   ]
  },
  {
   "cell_type": "code",
   "execution_count": null,
   "metadata": {},
   "outputs": [],
   "source": [
    "# Esercizio 2: scrivere una funzione che prende in input una stringa e ritorna True se è un palindromo, \n",
    "# False altrimenti (trovate almeno due modi diversi per farlo, uno si scrive in una riga)"
   ]
  },
  {
   "cell_type": "code",
   "execution_count": null,
   "metadata": {},
   "outputs": [],
   "source": [
    "# Esercizio3: definire una funzione che prende in input numeri interi e ritorna 'Fizz' \n",
    "# se il numero è divisibile per 3, 'Buzz' se è divisibile per 5 e 'Fizz-Buzz' se è divisibile per entrambi. \n",
    "# Negli altri casi ritorna il numero stesso. \n",
    "# Esempio: fizzBuzz(1)=1, fizzBuzz(5)='Buzz', fizzBuzz(30)='Fizz-Buzz', fizzBuzz(9)='Fizz'"
   ]
  },
  {
   "cell_type": "code",
   "execution_count": null,
   "metadata": {},
   "outputs": [],
   "source": [
    "# Esercizio4: definire un codice che chiede all'utente di inserire da tastiera (usare input) dei numeri\n",
    "# fino a quando l'utente non inserisce il numero 0. Il programma poi stampa a schermo la somma dei numeri \n",
    "# precedentemente inseriti. "
   ]
  }
 ],
 "metadata": {
  "kernelspec": {
   "display_name": "Python 3",
   "language": "python",
   "name": "python3"
  },
  "language_info": {
   "codemirror_mode": {
    "name": "ipython",
    "version": 3
   },
   "file_extension": ".py",
   "mimetype": "text/x-python",
   "name": "python",
   "nbconvert_exporter": "python",
   "pygments_lexer": "ipython3",
   "version": "3.6.9"
  }
 },
 "nbformat": 4,
 "nbformat_minor": 2
}
