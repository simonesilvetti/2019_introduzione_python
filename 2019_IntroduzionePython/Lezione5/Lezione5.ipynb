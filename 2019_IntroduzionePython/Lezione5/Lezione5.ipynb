{
 "cells": [
  {
   "cell_type": "markdown",
   "metadata": {},
   "source": [
    "### Esercizi Lezione 4"
   ]
  },
  {
   "cell_type": "code",
   "execution_count": null,
   "metadata": {},
   "outputs": [],
   "source": [
    "diz = {\"a\":2,\"b\":8}\n",
    "diz.items()  # diz.items() produce un oggetto di tipo dict_items!! "
   ]
  },
  {
   "cell_type": "code",
   "execution_count": null,
   "metadata": {},
   "outputs": [],
   "source": [
    "# Esercizio 1\n",
    "# Definire una funzione  che prende due dizionari con chiavi a piacere e valori degli interi e\n",
    "# ritorna un nuovo\n",
    "# dizionario che ha entrambe le chiavi dei dizionari, se una chiave è presente \n",
    "#in entrambi i dizionari\n",
    "# effettua le somme dei valori. \n",
    "# es. {\"ciccio\":25, \"p\": 12} {\"ciccio\":2, \"q\":7} -> { \"ciccio\": 27, \"p\":12, \"q\":7}  \n",
    "\n",
    "def merge(diz1,diz2):\n",
    "    diz_merge = {}\n",
    "    for key, value in  diz1.items():\n",
    "        diz_merge[key] = value\n",
    "    for key, value in  diz2.items():\n",
    "        diz_merge[key]= diz_merge.get(key,0)+ value\n",
    "    return diz_merge\n",
    "\n",
    "def merge_2(diz1,diz2):\n",
    "    diz_merge = {}\n",
    "    for key, value in  tuple(diz1.items()) + tuple(diz2.items()) :  # trasformo i due dict_items in tuple per \n",
    "        diz_merge[key] =  diz_merge.get(key,0)+ value               # poterle unire tramite il \"+\"\n",
    "    return diz_merge\n",
    "\n",
    "merge_2({\"ciccio\":25, \"p\": 12} ,{\"ciccio\":2, \"q\":7})\n"
   ]
  },
  {
   "cell_type": "code",
   "execution_count": null,
   "metadata": {},
   "outputs": [],
   "source": [
    "# Esercizio 2\n",
    "# Definire una funzione che prende come input una frase (insieme di stringhe intervallate \n",
    "#da uno spazio)\n",
    "# e ritorna un dizionario che ha come chiavi delle lettere e come valori la parola in frase \n",
    "#di lunghezza massima \n",
    "# che inizia proprio con quella lettera..\n",
    "# Esempio: \"mela pera macchina parmigiano console pittore piadina posizione carteggio foca\" \n",
    "#restituisce: \n",
    "# {\"m\": \"macchina\", \"p\": \"posizione\", \"c\": \"carteggio\", \"f\":\"foca\"}\n",
    "# a parità di lunghezza si preferisce la prima parola incontrata. \n",
    "\n",
    "def parole_lunghe(frase):\n",
    "    diz = {}\n",
    "    parole = frase.split()\n",
    "    sostituzione = lambda x,y : x if len(x)>=len(y) else y \n",
    "    for p in parole:\n",
    "        diz[p[0]]=sostituzione(diz.get(p[0],\"\"),p)\n",
    "    return diz\n",
    "parole_lunghe(\"mela pera macchina macchine parmigiano console pittore piadina posizione carteggio foca\")        "
   ]
  },
  {
   "cell_type": "code",
   "execution_count": null,
   "metadata": {},
   "outputs": [],
   "source": [
    "\n",
    "# ricordate zip si usa per \"unire - elemento per elemento\" due (o più) oggetti iterabili...\n",
    "dict(zip(range(0,10),[\"zero\",\"uno\",\"due\",\"tre\",\"quattro\",\"cinque\",\"sei\",\"sette\",\"otto\",\"nove\"])) "
   ]
  },
  {
   "cell_type": "code",
   "execution_count": null,
   "metadata": {},
   "outputs": [],
   "source": [
    "# Esercizio 3\n",
    "# definire una funzione che prende in input una lista di numeri interi e ritorna una lista di stringhe, \n",
    "# corrispondenti ai numeri scritti in italiano\n",
    "# es. [1,0,7,9,8] -> [\"uno\",\"zero\",\"sette\",\"nove\",\"otto\"] \n",
    "def translate(numeri):\n",
    "    diz = dict(zip(range(0,10),[\"zero\",\"uno\",\"due\",\"tre\",\"quattro\",\"cinque\",\"sei\",\"sette\",\"otto\",\"nove\"]))\n",
    "    return [ diz[n] for n in numeri]\n",
    "\n",
    "translate([1,0,7,9,8])"
   ]
  },
  {
   "cell_type": "code",
   "execution_count": null,
   "metadata": {},
   "outputs": [],
   "source": [
    "# Esercizio 4 \n",
    "# definite un generatore di numeri primi\n",
    "def not_primo(numero, primi):\n",
    "    for p in primi:\n",
    "        if(numero%p==0): # numero è divisibile per p \n",
    "            return True\n",
    "    return False\n",
    "\n",
    "def primi():\n",
    "    i = 2\n",
    "    primi = set() \n",
    "    while(True):\n",
    "        while(not_primo(i,primi)):\n",
    "            i = i+1\n",
    "        primi.add(i)\n",
    "        yield i\n",
    "\n",
    "generatore_primi = primi()\n",
    "for i in range(100):\n",
    "    print(next(generatore_primi), end = \" \")"
   ]
  },
  {
   "cell_type": "markdown",
   "metadata": {},
   "source": [
    "## Lettura e scrittura su file"
   ]
  },
  {
   "cell_type": "code",
   "execution_count": null,
   "metadata": {},
   "outputs": [],
   "source": [
    "file=open('file/provaScrittura2.txt','wt') # apro un file in modalità scrittura (w) testuale (t)\n",
    "file.write(\"ciao\\n\")   # scrivo sul file ciao e vado a capo con \\n\n",
    "file.write(\"come stai?\\n\") \n",
    "file.close()  # chiudo e salvo il file"
   ]
  },
  {
   "cell_type": "raw",
   "metadata": {},
   "source": [
    "\"r\" - Read - Default value. Opens a file for reading, error if the file does not exist\n",
    "\"a\" - Append - Opens a file for appending, creates the file if it does not exist\n",
    "\"w\" - Write - Opens a file for writing, creates the file if it does not exist\n",
    "\"x\" - Create - Creates the specified file, returns an error if the file exist\n",
    "-----\n",
    "\"t\" - Text - Default value. Text mode\n",
    "\"b\" - Binary - Binary mode (e.g. images)"
   ]
  },
  {
   "cell_type": "code",
   "execution_count": null,
   "metadata": {},
   "outputs": [],
   "source": [
    "file=open('file/provaScrittura2.txt','w')\n",
    "file.write(\"ciao\\n\")\n",
    "file.write(\"come stai?\\n\")\n",
    "file.close()"
   ]
  },
  {
   "cell_type": "code",
   "execution_count": null,
   "metadata": {},
   "outputs": [],
   "source": [
    "file=open('file/provaScrittura2.txt','rt')# apro un file in modalità lettura\n",
    "contenuto = file.read() # contenuto è una stringa unica...\n",
    "righe = contenuto.split(\"\\n\") # uso split per creare una lista con le righe del testo\n",
    "file.close()            # esco dalla lettura del file e lo chiudo\n",
    "print(righe)"
   ]
  },
  {
   "cell_type": "code",
   "execution_count": null,
   "metadata": {},
   "outputs": [],
   "source": [
    "file=open('file/provaScrittura2.txt','r')# apro un file in modalità lettura, la t è di default!\n",
    "righe = file.readlines() # readlines crea direttamente una lista con le righe del testo\n",
    "file.close()\n",
    "print(righe)"
   ]
  },
  {
   "cell_type": "code",
   "execution_count": null,
   "metadata": {},
   "outputs": [],
   "source": [
    "file=open('file/provaScrittura2.txt','r')# apro un file in modalità lettura\n",
    "# file=open('provaScrittura.txt') posso omettere la r che è il valore di default per la modalità\n",
    "print(file.readline()) # readline legge una riga del testo\n",
    "print(file.readline()) # se lo chiamo una seconda volta legge la riga successiva e così via\n",
    "print(file.readline())\n",
    "print(file.readline()) # se chiamo il metodo readline() più volte rispetto alle righe del testo\n",
    "file.close()           # python non \"si arrabbia\" ma non ritorna nulla. "
   ]
  },
  {
   "cell_type": "code",
   "execution_count": null,
   "metadata": {},
   "outputs": [],
   "source": [
    "# posso evitare di chiudere un file usando il comando with. Il file viene chiuso automaticamente \n",
    "# appena la computazione esce dallo scope del with!!! \n",
    "with open('file/provaScrittura2.txt') as file:\n",
    "    print(file.readlines())"
   ]
  },
  {
   "cell_type": "markdown",
   "metadata": {},
   "source": [
    "## Pickle\n",
    "#### Tutto quello che scrivo e leggo da un file è un stringa, come faccio a salvare dei dati nel formato originale? \n"
   ]
  },
  {
   "cell_type": "code",
   "execution_count": null,
   "metadata": {},
   "outputs": [],
   "source": [
    "# Possiamo usare pickle per serializzare un oggetto!\n",
    "# Serializziamo l'oggetto in byte e salviamolo su un file\n",
    "import pickle\n",
    "\n",
    "dizionario = {\"nome\":\"mario\"}\n",
    "with open('storage.txt','wb') as file:    #uso la b che sta per byte!\n",
    "    pickle.dump(dizionario,file)"
   ]
  },
  {
   "cell_type": "code",
   "execution_count": null,
   "metadata": {},
   "outputs": [],
   "source": [
    "# per caricare il contenuto dello storage.... \n",
    "file = open(\"storage.txt\",\"rb\")\n",
    "diz = pickle.load(file)# usare la b!\n",
    "file.close()\n",
    "print(diz)"
   ]
  },
  {
   "cell_type": "markdown",
   "metadata": {},
   "source": [
    "#### E se devo salvare più di un oggetto?\n"
   ]
  },
  {
   "cell_type": "code",
   "execution_count": null,
   "metadata": {},
   "outputs": [],
   "source": [
    "import pickle\n",
    "\n",
    "dizionario = {\"nome\":\"mario\"}\n",
    "lista = [\"a\",12,32.7]\n",
    "valore = 12\n",
    "\n",
    "with open('storage2.txt','wb') as file:    # uso la b che sta per byte!\n",
    "    pickle.dump(dizionario,file)           # dump salva il contenuto in append al file \n",
    "    pickle.dump(lista,file)\n",
    "    pickle.dump(valore,file)\n",
    "\n",
    "with open('storage2.txt','rb') as file:    #uso la b che sta per byte!\n",
    "    diz = pickle.load(file)       \n",
    "    lis = pickle.load(file)\n",
    "    val = pickle.load(file)\n",
    "\n",
    "print(diz)\n",
    "print(lis) \n",
    "print(val)"
   ]
  },
  {
   "cell_type": "code",
   "execution_count": null,
   "metadata": {},
   "outputs": [],
   "source": [
    "# in file/iris.data abbiamo un file contenente dei dati...\n",
    "\n",
    "with open(\"file/iris.data\") as file: \n",
    "    elements = [ row.replace(\"\\n\",\"\").split(\",\") for row in file.readlines()] #\n",
    "print(elements[0])\n",
    "print(elements[1])\n",
    "print(elements[2])\n",
    "# i primi 4 elementi sono dei numeri. Come faccio a convertirli da str a float?\n",
    "\n",
    "for element in elements: \n",
    "    for i in range(len(element)-1):\n",
    "        element[i] = float(element[i])\n",
    "\n",
    "print(elements[0])\n",
    "print(elements[1])\n",
    "print(elements[2])"
   ]
  },
  {
   "cell_type": "markdown",
   "metadata": {},
   "source": [
    "### [Numpy](https://numpy.org/)\n",
    "#### A package for scientific computing with Python\n",
    "Visitate il [tutorial](https://numpy.org/devdocs/user/quickstart.html)\n"
   ]
  },
  {
   "cell_type": "markdown",
   "metadata": {},
   "source": [
    "#### Creo un array"
   ]
  },
  {
   "cell_type": "code",
   "execution_count": null,
   "metadata": {},
   "outputs": [],
   "source": [
    "import numpy as np\n",
    "\n",
    "a = np.array([1, 2, 3])   # Creo un array\n",
    "print(type(a))            # \n",
    "print(a.shape)            # Stampo la dimensione, è una tupla\n",
    "print(a[0], a[1], a[2])   # Accedere agli elementi\n",
    "a[0] = 5                  # Modificare un elemento\n",
    "\n",
    "print(a)                  "
   ]
  },
  {
   "cell_type": "markdown",
   "metadata": {},
   "source": [
    "#### Creo una matrice (array - 2d)"
   ]
  },
  {
   "cell_type": "code",
   "execution_count": null,
   "metadata": {},
   "outputs": [],
   "source": [
    "b = np.array([[1,2,3],[4,5,6],[7,8,9]])\n",
    "print(b)\n",
    "print(b.shape)                     # \n",
    "print(b[0, 0], b[0, 1], b[1, 0])   # Accedo agli elementi"
   ]
  },
  {
   "cell_type": "markdown",
   "metadata": {},
   "source": [
    "#### Slicing: accedere agli elementi di una colonna, riga, etc."
   ]
  },
  {
   "cell_type": "code",
   "execution_count": null,
   "metadata": {},
   "outputs": [],
   "source": [
    "colonna_indice_0 = b[:,0]\n",
    "print(colonna_indice_0)\n",
    "riga_indice_1 = b[1,:]\n",
    "print(riga_indice_1)"
   ]
  },
  {
   "cell_type": "raw",
   "metadata": {},
   "source": [
    "[[1 2 3]\n",
    " [4 5 6]\n",
    " [7 8 9]]"
   ]
  },
  {
   "cell_type": "code",
   "execution_count": null,
   "metadata": {},
   "outputs": [],
   "source": [
    "# Esercizio come identifichiamo la matrice [[5,6],[8,9]] usando lo slicing?\n",
    "b[1:,1:]"
   ]
  },
  {
   "cell_type": "markdown",
   "metadata": {},
   "source": [
    "#### Boolean indexing"
   ]
  },
  {
   "cell_type": "code",
   "execution_count": null,
   "metadata": {},
   "outputs": [],
   "source": [
    "b = np.array([[1,2,25],[14,5,16],[2,8,19]])\n",
    "print(b)\n",
    "print()\n",
    "print(b>2) # trova gli elementi delle matrice che sono maggiorni di 2. Il risultato è una matrice di booleani"
   ]
  },
  {
   "cell_type": "code",
   "execution_count": null,
   "metadata": {},
   "outputs": [],
   "source": [
    "# per ottenere i valori \n",
    "b[b>2] "
   ]
  },
  {
   "cell_type": "code",
   "execution_count": null,
   "metadata": {},
   "outputs": [],
   "source": [
    "# sostituiamo i valori di b \n",
    "b[b>2] = 2 \n",
    "print(b)"
   ]
  },
  {
   "cell_type": "markdown",
   "metadata": {},
   "source": [
    "####  any(), all()"
   ]
  },
  {
   "cell_type": "code",
   "execution_count": null,
   "metadata": {},
   "outputs": [],
   "source": [
    "b = np.array([[0,13],[-1,2]])\n",
    "\n",
    "def select(x):\n",
    "    return (x<2).any() and (x>1).any()\n",
    "select(b)"
   ]
  },
  {
   "cell_type": "markdown",
   "metadata": {},
   "source": [
    "#### Operazioni tra matrici"
   ]
  },
  {
   "cell_type": "code",
   "execution_count": null,
   "metadata": {},
   "outputs": [],
   "source": [
    "print(np.ones([5,5]))"
   ]
  },
  {
   "cell_type": "code",
   "execution_count": null,
   "metadata": {},
   "outputs": [],
   "source": [
    "print(np.zeros(10)) # array di 0 (dimensione 10)\n",
    "np.ones(10)  # array di 1 (dimensione 10) \n",
    "np.zeros([5,5]) # array di 0 (dimensione 5 x 5)\n",
    "np.random.rand(5,5) # matrice 5 x 5 di numeri casuali (compresi tra 0 e 1)"
   ]
  },
  {
   "cell_type": "code",
   "execution_count": null,
   "metadata": {},
   "outputs": [],
   "source": [
    "np.random.rand(5,5)"
   ]
  },
  {
   "cell_type": "markdown",
   "metadata": {},
   "source": [
    "#### Operazioni elemento x elemento"
   ]
  },
  {
   "cell_type": "code",
   "execution_count": null,
   "metadata": {},
   "outputs": [],
   "source": [
    "x = np.array([[1,2,3],[4,5,6]])\n",
    "y = np.array([[2,2,8],[1,1,5]])\n",
    "\n",
    "print(x + y)\n",
    "print(np.add(x, y))\n",
    "\n",
    "print(x - y)\n",
    "print(np.subtract(x, y))\n",
    "\n",
    "print(x * y)\n",
    "print(np.multiply(x, y))\n",
    "\n",
    "print(x / y)\n",
    "print(np.divide(x, y))\n",
    "\n",
    "print(np.sqrt(x))"
   ]
  },
  {
   "cell_type": "markdown",
   "metadata": {},
   "source": [
    "#### Operazioni tra matrici"
   ]
  },
  {
   "cell_type": "code",
   "execution_count": null,
   "metadata": {},
   "outputs": [],
   "source": [
    "x = np.array([[1,2],[3,4]])\n",
    "y = np.array([[5,6],[7,8]])\n",
    "\n",
    "v = np.array([9,10])\n",
    "w = np.array([11, 12])\n",
    "\n",
    "print(v.dot(w))      # prodotto scalare\n",
    "#print(np.dot(v, w))\n",
    "#print(x @ v)\n",
    "\n",
    "print(x.dot(v))      # matrice x vettore\n",
    "# print(np.dot(x, v))\n",
    "# print(x @ v)\n",
    "\n",
    "print(x.dot(y))      # matrice x matrice\n",
    "#print(np.dot(x, y))\n",
    "# print(x @ v)\n",
    "\n",
    "print(x.T) # matrice trasposta\n",
    "\n",
    "print(np.linalg.inv(x)) # matrice inversa "
   ]
  },
  {
   "cell_type": "code",
   "execution_count": null,
   "metadata": {},
   "outputs": [],
   "source": [
    "# Esercizio definire una funzione che prende in input due punti del piano cartesiano e ritorna la distanza\n",
    "# euclidea. \n",
    "\n",
    "A = np.array([1,5])\n",
    "B = np.array([2,2])\n",
    "\n",
    "def distanza(A,B):\n",
    "    c = A - B\n",
    "    return np.sqrt(c @ c)\n",
    "distanza(A,B)"
   ]
  },
  {
   "cell_type": "markdown",
   "metadata": {},
   "source": [
    "#### arange e reshape"
   ]
  },
  {
   "cell_type": "code",
   "execution_count": null,
   "metadata": {},
   "outputs": [],
   "source": [
    "print(np.arange(10))   \n",
    "print(np.arange(7,10))\n",
    "print(np.arange(2,10,2))"
   ]
  },
  {
   "cell_type": "code",
   "execution_count": null,
   "metadata": {},
   "outputs": [],
   "source": [
    "print(np.arange(10).reshape(5,2))"
   ]
  },
  {
   "cell_type": "code",
   "execution_count": null,
   "metadata": {},
   "outputs": [],
   "source": [
    "print(np.arange(10).reshape(5,2))"
   ]
  },
  {
   "cell_type": "markdown",
   "metadata": {},
   "source": [
    "#### Universal function (agiscono elemento per elemento)"
   ]
  },
  {
   "cell_type": "code",
   "execution_count": null,
   "metadata": {},
   "outputs": [],
   "source": [
    "import numpy as np \n",
    "v = np.arange(3)\n",
    "\n",
    "np.exp(v)  \n",
    "np.sqrt(v)\n",
    "np.sin(v)\n",
    "np.cos(v)\n",
    "\n",
    "def myfunc(a, b):\n",
    "    \"Return a-b if a>b, otherwise return a+b\"\n",
    "    if a > b:\n",
    "        return a - b\n",
    "    else:\n",
    "        return a + b\n",
    "\n",
    "vfunc = np.vectorize(myfunc)\n",
    "print(vfunc([1, 2, 3, 4], [3,3,3,3])) \n",
    "\n",
    "def fun(x):\n",
    "    return x+2\n",
    "#vfun = np.vectorize(fun)\n",
    "fun(np.array([1,2,3]))"
   ]
  },
  {
   "cell_type": "code",
   "execution_count": null,
   "metadata": {},
   "outputs": [],
   "source": [
    "b = np.array([[0,13],[-1,2]])\n",
    "\n",
    "def select(x):\n",
    "    return x<2 and x>1\n",
    "vselect = np.vectorize(select)\n",
    "vselect(b)"
   ]
  },
  {
   "cell_type": "code",
   "execution_count": null,
   "metadata": {},
   "outputs": [],
   "source": [
    "# Esercizio definiamo una funzione che prende un array e \n",
    "#sostituisce con lo 0 gli elementi minori di 4, \n",
    "# e con 1 gli elementi maggiori di 4\n",
    "\n",
    "def fun(array):\n",
    "    array[array<=4] = 0\n",
    "    array[array>4] = 1\n",
    "    return array \n",
    "\n",
    "def fun(array):\n",
    "    f = np.vectorize(lambda x : 0 if x<=4 else 1)\n",
    "    return f(array) \n",
    "\n",
    "fun(np.array([1,5,3,2,3,1,6,7,8]))"
   ]
  },
  {
   "cell_type": "markdown",
   "metadata": {},
   "source": [
    "#### numpy.loadtxt"
   ]
  },
  {
   "cell_type": "code",
   "execution_count": null,
   "metadata": {},
   "outputs": [],
   "source": [
    "import numpy as np\n",
    "M = np.loadtxt(\"file/iris.data\") # produce un errore (could not convert string to float: '5.1,3.5,1.4,0.2,Iris-setosa')\n",
    "# dobbiamo specificare il delimiter da usare (\",\") e trasformare l'ultima colonna da stringa a float!"
   ]
  },
  {
   "cell_type": "code",
   "execution_count": null,
   "metadata": {},
   "outputs": [],
   "source": [
    "M = np.loadtxt(\"file/iris.data\",delimiter=\",\",usecols=(range(4))) \n",
    "# M = np.loadtxt(\"file/iris.data\",delimiter=\",\",usecols=(0,1,2,3)) # usecols mi permette di specificare quali\n",
    "print(M)                                                           # colonne considerare (escludiamo l'ultima)  \n"
   ]
  },
  {
   "cell_type": "code",
   "execution_count": null,
   "metadata": {},
   "outputs": [],
   "source": [
    "# usiamo il parametro \"converts\" per applicare una funzione agli elementi della colonna di indice 4!\n",
    "# la funzione è lambda s: dic[s] dove dic è un dizionario definito qui sotto! \n",
    "\n",
    "classes = [\"Iris-setosa\",\"Iris-versicolor\",\"Iris-virginica\"]\n",
    "dic = dict(zip(classes,range(len(classes))))\n",
    "M = np.loadtxt(\"file/iris.data\",delimiter=\",\",usecols=(0,1,2,3,4),converters = {4: lambda s: dic[s]})\n",
    "print(M)"
   ]
  },
  {
   "cell_type": "code",
   "execution_count": null,
   "metadata": {},
   "outputs": [],
   "source": [
    "# non è ancora finita, otteniamo un  key error: python non riesce a trovare nel dizionario la chiave b'Iris-setosa'\n",
    "# notate la b prima delle stringa, questo sta a significare che la stringa è in realtà una byte -string\n",
    "# devo decodificarla usando il metodo decode! \n",
    "\n",
    "s = \"蓏콯캁澽苏\"    # formato string\n",
    "print(s)\n",
    "s_cod = s.encode(\"utf-8\") # formato byte-string ottenuto applicando la codifica UTF - 8\n",
    "print(s_cod)   # notate la b davanti!! \n",
    "s_decode = s_cod.decode(\"utf-8\")  # decodifico!! \n",
    "print(s_decode) # ottengo il risultato originale"
   ]
  },
  {
   "cell_type": "code",
   "execution_count": null,
   "metadata": {},
   "outputs": [],
   "source": [
    "M = np.loadtxt(\"file/iris.data\",delimiter=\",\",usecols=(0,1,2,3,4),skiprows = 1,converters = {4: lambda s: dic[s.decode(\"utf-8\")]})\n",
    "print(M)"
   ]
  },
  {
   "cell_type": "markdown",
   "metadata": {},
   "source": [
    "### Matplotlib\n",
    "#### plot"
   ]
  },
  {
   "cell_type": "code",
   "execution_count": null,
   "metadata": {},
   "outputs": [],
   "source": [
    "# Definiamo dei dati tramile la list comprehension!\n",
    "xData = [i/2000 for i in range(2000)]\n",
    "f = lambda x : x**2 + x + 1\n",
    "yData = [ f(x)for x in xData]"
   ]
  },
  {
   "cell_type": "code",
   "execution_count": null,
   "metadata": {},
   "outputs": [],
   "source": [
    "#il prossimo comando aggiunge funzionalità ai grafici. Notate che è un comando di Jupyter Notebook, non di Python!\n",
    "%matplotlib notebook   # RICORDATE DOPO AVER GIOCATO (zoom, resize, etc..) CON IL GRAFICO DOVETE CLICCARE\n",
    "from matplotlib import pyplot as plt                                       # SUL TASTO DI SPEGNIMENTO!\n",
    "# import  matplotlib.pyplot as plt   # in alternativa! \n",
    "plt.plot(xData, yData)\n",
    "\n",
    "plt.show()"
   ]
  },
  {
   "cell_type": "code",
   "execution_count": null,
   "metadata": {},
   "outputs": [],
   "source": [
    "# Definiamo gli stessi dati usando numpy!\n",
    "xData = np.linspace(0,1,2000)\n",
    "f = lambda x : x**2 + x + 1\n",
    "yData = f(xData)"
   ]
  },
  {
   "cell_type": "code",
   "execution_count": null,
   "metadata": {},
   "outputs": [],
   "source": [
    "%matplotlib notebook  \n",
    "from matplotlib import pyplot as plt\n",
    "# import  matplotlib.pyplot as plt\n",
    "plt.plot(xData, yData)\n",
    "\n",
    "plt.show()"
   ]
  },
  {
   "cell_type": "code",
   "execution_count": null,
   "metadata": {
    "scrolled": false
   },
   "outputs": [],
   "source": [
    "%matplotlib notebook  \n",
    "from matplotlib import pyplot as plt\n",
    "# import  matplotlib.pyplot as plt\n",
    "plt.plot(xData, yData,label=\"f(x)=x^2+x+1\")  # label che viene mostrata dalla legenda\n",
    "plt.ylabel('f(x)') # scriviamo 'f(x)' sull'asse delle y\n",
    "plt.xlabel('x')    # scriviamo 'x' sull'asse delle x\n",
    "plt.title('Un grafico a caso')\n",
    "plt.legend()  # aggiungiamo la legenda al grafico\n",
    "plt.show()"
   ]
  },
  {
   "cell_type": "code",
   "execution_count": null,
   "metadata": {},
   "outputs": [],
   "source": [
    "plt.plot([1, 2, 3, 4], [1, 4, 9, 16], 'r+')   \n",
    "plt.plot([1, 2, 3, 4], [5, 9, 7, 16], 'b*') \n",
    "plt.plot([1, 2, 3, 4], [5, 9, 7, 16], 'b-') \n",
    "\n",
    "\n",
    "plt.axis([0, 6, 0, 20]) # asse x in [0,6] e asse y in [0.20]\n",
    "\n",
    "plt.show()\n"
   ]
  },
  {
   "cell_type": "code",
   "execution_count": null,
   "metadata": {},
   "outputs": [],
   "source": [
    "#plt.plot([1, 2, 3, 4], [1, 4, 9, 16], 'go--', linewidth=2, markersize=12)\n",
    "plt.plot([1, 2, 3, 4], [1, 4, 9, 16], color='green', marker='+', linestyle='dashed', linewidth=2, markersize=12)\n",
    "plt.show()\n",
    "\n"
   ]
  },
  {
   "cell_type": "markdown",
   "metadata": {},
   "source": [
    "#### Parametri per colori e tipo marker / linea"
   ]
  },
  {
   "cell_type": "raw",
   "metadata": {},
   "source": [
    "The following color abbreviations are supported:\n",
    "    \n",
    "    =============    ===============================\n",
    "    character        color\n",
    "    =============    ===============================\n",
    "    ``'b'``          blue\n",
    "    ``'g'``          green\n",
    "    ``'r'``          red\n",
    "    ``'c'``          cyan\n",
    "    ``'m'``          magenta\n",
    "    ``'y'``          yellow\n",
    "    ``'k'``          black\n",
    "    ``'w'``          white\n",
    "    =============    ===============================\n",
    "    \n",
    "    If the color is the only part of the format string, you can\n",
    "    additionally use any  `matplotlib.colors` spec, e.g. full names\n",
    "    (``'green'``) or hex strings (``'#008000'``).\n",
    "    \n",
    "    **Markers**\n",
    "    \n",
    "    =============    ===============================\n",
    "    character        description\n",
    "    =============    ===============================\n",
    "    ``'.'``          point marker\n",
    "    ``','``          pixel marker\n",
    "    ``'o'``          circle marker\n",
    "    ``'v'``          triangle_down marker\n",
    "    ``'^'``          triangle_up marker\n",
    "    ``'<'``          triangle_left marker\n",
    "    ``'>'``          triangle_right marker\n",
    "    ``'1'``          tri_down marker\n",
    "    ``'2'``          tri_up marker\n",
    "    ``'3'``          tri_left marker\n",
    "    ``'4'``          tri_right marker\n",
    "    ``'s'``          square marker\n",
    "    ``'p'``          pentagon marker\n",
    "    ``'*'``          star marker\n",
    "    ``'h'``          hexagon1 marker\n",
    "    ``'H'``          hexagon2 marker\n",
    "    ``'+'``          plus marker\n",
    "    ``'x'``          x marker\n",
    "    ``'D'``          diamond marker\n",
    "    ``'d'``          thin_diamond marker\n",
    "    ``'|'``          vline marker\n",
    "    ``'_'``          hline marker\n",
    "    =============    ===============================\n",
    "    \n",
    "    **Line Styles**\n",
    "    \n",
    "    =============    ===============================\n",
    "    character        description\n",
    "    =============    ===============================\n",
    "    ``'-'``          solid line style\n",
    "    ``'--'``         dashed line style\n",
    "    ``'-.'``         dash-dot line style\n",
    "    ``':'``          dotted line style\n",
    "    =============    ===============================\n",
    "    \n",
    "    Example format strings::\n",
    "    \n",
    "        'b'    # blue markers with default shape\n",
    "        'ro'   # red circles\n",
    "        'g-'   # green solid line\n",
    "        '--'   # dashed line with default color\n",
    "        'k^:'  # black triangle_up markers connected by a dotted line"
   ]
  },
  {
   "cell_type": "code",
   "execution_count": null,
   "metadata": {},
   "outputs": [],
   "source": [
    "plt.plot([1, 2, 3, 4], [1, 4, 9, 16], '4')   \n",
    "plt.plot([1, 2, 3, 4], [5, 9, 7, 16], 'kD') \n",
    "plt.axis([0, 6, 0, 20]) # asse x in [0,6] e asse y in [0.20]\n",
    "\n",
    "plt.show()"
   ]
  },
  {
   "cell_type": "markdown",
   "metadata": {},
   "source": [
    "#### Scatter"
   ]
  },
  {
   "cell_type": "code",
   "execution_count": null,
   "metadata": {},
   "outputs": [],
   "source": [
    "%matplotlib notebook  \n",
    "import random\n",
    "from matplotlib import pyplot as plt\n",
    "\n",
    "x = [random.random() for i in range(20)]\n",
    "y = [random.random() for i in range(20)]\n",
    "f = lambda x,y: x*y\n",
    "z = [200*f(xi,yi) for xi,yi in zip(x,y)]\n",
    "plt.scatter(x, y, s=z)    # s è la size dei marker!\n",
    "\n",
    "plt.show()"
   ]
  },
  {
   "cell_type": "code",
   "execution_count": null,
   "metadata": {},
   "outputs": [],
   "source": [
    "from matplotlib import pyplot as plt\n",
    "M = np.loadtxt(\"file/iris.data\",delimiter=\",\",usecols=(0,1,2,3,4),skiprows = 1,converters = {4: lambda s: dic[s.decode(\"utf-8\")]})\n",
    "M_setosa = M[M[:,4]==0]     # applichiamo un filtro: prendiamo solo le righe di M per cui la quarta colonna ha uno zero!\n",
    "plt.scatter(M[:,0], M[:,1],color=\"red\")    # costruiamo lo scatter plot\n",
    "\n",
    "plt.show()"
   ]
  },
  {
   "cell_type": "code",
   "execution_count": null,
   "metadata": {},
   "outputs": [],
   "source": [
    "%matplotlib notebook  \n",
    "from matplotlib import pyplot as plt\n",
    "\n",
    "M = np.loadtxt(\"file/iris.data\",delimiter=\",\",usecols=(0,1,2,3,4),skiprows = 1,converters = {4: lambda s: dic[s.decode(\"utf-8\")]})\n",
    "M_0 = M[M[:,4]==0]   # come sopra filtriamo solo i design con categoria = 0 \n",
    "M_1 = M[M[:,4]==1]   # ...\n",
    "M_2 = M[M[:,4]==2]   # ...\n",
    "\n",
    "plt.figure(figsize = (5,5))\n",
    "plt.scatter(M_0[:,0], M_0[:,1],color=\"red\",label = \"setosa\")   \n",
    "plt.scatter(M_1[:,0], M_1[:,1],color=\"blue\",label = \"versicolor\")   \n",
    "plt.scatter(M_2[:,0], M_2[:,1],color=\"k\",label = \"virginica\")\n",
    "plt.legend()\n",
    "plt.title(\"Iris Dataset\")"
   ]
  },
  {
   "cell_type": "code",
   "execution_count": null,
   "metadata": {},
   "outputs": [],
   "source": [
    "%matplotlib notebook  \n",
    "from matplotlib import pyplot as plt\n",
    "\n",
    "M = np.loadtxt(\"file/iris.data\",delimiter=\",\",usecols=(0,1,2,3,4),skiprows = 1,converters = {4: lambda s: dic[s.decode(\"utf-8\")]})\n",
    "M_0 = M[M[:,4]==0] \n",
    "M_1 = M[M[:,4]==1]\n",
    "M_2 = M[M[:,4]==2]\n",
    "\n",
    "fig, axs = plt.subplots(1, 3, figsize=(9, 3)) # 1 fila contenente 3 grafici. figsize definisce le proporzioni\n",
    "                                              # del grafico larghezza e altezza in pollici \n",
    "axs[0].scatter(M_0[:,0], M_0[:,1],color=\"red\")   \n",
    "axs[0].scatter(M_1[:,0], M_1[:,1],color=\"blue\")   \n",
    "axs[0].scatter(M_2[:,0], M_2[:,1],color=\"k\")    # axs[numero] identifica quale grafico vogliamo considerare!\n",
    "axs[0].set_title(\"0 vs 1\")                      # abbiamo definito 1 riga con 3 grafici quindi avrò a disposizione\n",
    "                                                # axs[0],axs[1],axs[2].\n",
    "\n",
    "axs[1].scatter(M_0[:,1], M_0[:,2],color=\"red\")   \n",
    "axs[1].scatter(M_1[:,1], M_1[:,2],color=\"blue\")   \n",
    "axs[1].scatter(M_2[:,1], M_2[:,2],color=\"k\")   \n",
    "axs[1].set_title(\"1 vs 2\")\n",
    "\n",
    "axs[2].scatter(M_0[:,1], M_0[:,3],color=\"red\")   \n",
    "axs[2].scatter(M_1[:,1], M_1[:,3],color=\"blue\")   \n",
    "axs[2].scatter(M_2[:,1], M_2[:,3],color=\"k\")   \n",
    "axs[2].set_title(\"1 vs 3\")\n",
    "\n",
    "plt.show()"
   ]
  },
  {
   "cell_type": "markdown",
   "metadata": {},
   "source": [
    "#### Più grafici nella stessa finestra! "
   ]
  },
  {
   "cell_type": "code",
   "execution_count": null,
   "metadata": {},
   "outputs": [],
   "source": [
    "names = ['group_a', 'group_b', 'group_c']\n",
    "values = [1, 10, 100]\n",
    "fig, axs = plt.subplots(2, 3, figsize=(9, 6), sharey=True) # 2 file con 3 grafici ognuna.\n",
    "axs[0,0].bar(names, values)                                # Come gli elementi di una matrice \n",
    "axs[1,2].scatter(names, values)                            # axs[1,2] si riferisce all' ultimo grafico\n",
    "axs[0,2].plot(names, values)                               # in seconda linea!! \n",
    "fig.suptitle('Categorical Plotting')"
   ]
  },
  {
   "cell_type": "code",
   "execution_count": null,
   "metadata": {},
   "outputs": [],
   "source": []
  }
 ],
 "metadata": {
  "kernelspec": {
   "display_name": "Python 3",
   "language": "python",
   "name": "python3"
  },
  "language_info": {
   "codemirror_mode": {
    "name": "ipython",
    "version": 3
   },
   "file_extension": ".py",
   "mimetype": "text/x-python",
   "name": "python",
   "nbconvert_exporter": "python",
   "pygments_lexer": "ipython3",
   "version": "3.6.9"
  }
 },
 "nbformat": 4,
 "nbformat_minor": 2
}
